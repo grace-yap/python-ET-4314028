{
 "cells": [
  {
   "cell_type": "markdown",
   "id": "b693252d",
   "metadata": {},
   "source": [
    "## Variables as Functions"
   ]
  },
  {
   "cell_type": "code",
   "execution_count": 1,
   "id": "4f487c83",
   "metadata": {},
   "outputs": [],
   "source": [
    "# variables have a name and some data associated with them\n",
    "x = 5"
   ]
  },
  {
   "cell_type": "code",
   "execution_count": 1,
   "id": "cb49359a",
   "metadata": {},
   "outputs": [],
   "source": [
    "# functions have a function name and some data associated with them\n",
    "# in the case of the function, this data is information about the required parameters, if any, and also some lines of instruction that need to be executed\n",
    "def x():\n",
    "    return 5"
   ]
  },
  {
   "cell_type": "markdown",
   "id": "4065cfed",
   "metadata": {},
   "source": [
    "### Viewing function data with  \\_\\_code\\_\\_"
   ]
  },
  {
   "cell_type": "code",
   "execution_count": 3,
   "id": "64b94543",
   "metadata": {},
   "outputs": [
    {
     "name": "stdout",
     "output_type": "stream",
     "text": [
      "()\n",
      "b'd\\x01S\\x00'\n"
     ]
    }
   ],
   "source": [
    "# A function is represented in the Python as an object!\n",
    "\n",
    "# variable names of the python (none in the case of x() function defined in cell 2)\n",
    "print(x.__code__.co_varnames)\n",
    "# Python byte object of all of the lines of instruction in the function\n",
    "print(x.__code__.co_code)\n",
    "\n",
    "# in python, functions are just variables associated with some data"
   ]
  },
  {
   "cell_type": "markdown",
   "id": "5eb0b9e0",
   "metadata": {},
   "source": [
    "### Text processing in Python"
   ]
  },
  {
   "cell_type": "code",
   "execution_count": 5,
   "id": "97284f20",
   "metadata": {},
   "outputs": [],
   "source": [
    "text = '''\n",
    "Beautiful is better than ugly.\n",
    "Explicit is better than implicit.\n",
    "Simple is better than complex.\n",
    "Complex is better than complicated.\n",
    "Flat is better than nested.\n",
    "Sparse is better than dense.\n",
    "Readability counts.\n",
    "Special cases aren't special enough to break the rules.\n",
    "Although practicality beats purity.\n",
    "Errors should never pass silently.\n",
    "Unless explicitly silenced.\n",
    "In the face of ambiguity, refuse the temptation to guess.\n",
    "There should be one-- and preferably only one --obvious way to do it.\n",
    "Although that way may not be obvious at first unless you're Dutch.\n",
    "Now is better than never.\n",
    "Although never is often better than *right* now.\n",
    "If the implementation is hard to explain, it's a bad idea.\n",
    "If the implementation is easy to explain, it may be a good idea.\n",
    "Namespaces are one honking great idea -- let's do more of those!\n",
    "'''\n"
   ]
  },
  {
   "cell_type": "code",
   "execution_count": 6,
   "id": "bd899058",
   "metadata": {},
   "outputs": [],
   "source": [
    "def lowercase(text):\n",
    "    return text.lower()\n",
    "\n",
    "def removePunctuation(text):\n",
    "    punctuations = ['.', '-', ',', '*']\n",
    "    for punctuation in punctuations:\n",
    "        text = text.replace(punctuation, '')\n",
    "    return text\n",
    "\n",
    "def removeNewlines(text):\n",
    "    text = text.replace('\\n', ' ')\n",
    "    return text\n",
    "\n",
    "def removeShortWords(text):\n",
    "    return ' '.join([word for word in text.split() if len(word) > 3])\n",
    "\n",
    "def removeLongWords(text):\n",
    "    return ' '.join([word for word in text.split() if len(word) < 6])"
   ]
  },
  {
   "cell_type": "code",
   "execution_count": 17,
   "id": "ea6acd79-c5a7-4748-8d55-f391de384ad4",
   "metadata": {},
   "outputs": [
    {
     "name": "stdout",
     "output_type": "stream",
     "text": [
      " beautiful is better than ugly explicit is better than implicit simple is better than complex complex is better than complicated flat is better than nested sparse is better than dense readability counts special cases aren't special enough to break the rules although practicality beats purity errors should never pass silently unless explicitly silenced in the face of ambiguity refuse the temptation to guess there should be one and preferably only one obvious way to do it although that way may not be obvious at first unless you're dutch now is better than never although never is often better than right now if the implementation is hard to explain it's a bad idea if the implementation is easy to explain it may be a good idea namespaces are one honking great idea  let's do more of those! \n"
     ]
    }
   ],
   "source": [
    "# you can mix and match the order the functions are performed and which functions are applied by calling them in a list\n",
    "\n",
    "processingFunctions = [lowercase, removePunctuation, removeNewlines]\n",
    "\n",
    "for func in processingFunctions:\n",
    "    text = func(text)\n",
    "\n",
    "print(text)"
   ]
  },
  {
   "cell_type": "code",
   "execution_count": 7,
   "id": "4e6e3111",
   "metadata": {},
   "outputs": [
    {
     "name": "stdout",
     "output_type": "stream",
     "text": [
      "is than ugly is than is than is than flat is than is than dense cases to break the rules beats never pass in the face of the to guess there be one and only one way to do it that way may not be at first dutch now is than never never is often than right now if the is hard to it's a bad idea if the is easy to it may be a good idea are one great idea let's do more of\n"
     ]
    }
   ],
   "source": [
    "# this pattern is very powerful for many businesses that suffer from changing business requirements\n",
    "\n",
    "processingFunctions = [lowercase, removePunctuation, removeNewlines, removeLongWords]\n",
    "\n",
    "for func in processingFunctions:\n",
    "    text = func(text)\n",
    "\n",
    "print(text)"
   ]
  },
  {
   "cell_type": "markdown",
   "id": "2639b4fa",
   "metadata": {},
   "source": [
    "### Lambda functions"
   ]
  },
  {
   "cell_type": "code",
   "execution_count": 9,
   "id": "9d3bbf30",
   "metadata": {},
   "outputs": [
    {
     "data": {
      "text/plain": [
       "5"
      ]
     },
     "execution_count": 9,
     "metadata": {},
     "output_type": "execute_result"
    }
   ],
   "source": [
    "2 + 3"
   ]
  },
  {
   "cell_type": "code",
   "execution_count": 10,
   "id": "3867835f",
   "metadata": {},
   "outputs": [
    {
     "data": {
      "text/plain": [
       "8"
      ]
     },
     "execution_count": 10,
     "metadata": {},
     "output_type": "execute_result"
    }
   ],
   "source": [
    "# syntax:\n",
    "# (lambda <parameter name>: <one line function, NO multi-line functions allowed in a lambda function>)(<input>)\n",
    "# implied return - no need to type return in a lambda function. return is automatically assumed.\n",
    "\n",
    "(lambda x: x + 3)(5)\n",
    "# takes the value 5, adds 3, and returns 8"
   ]
  },
  {
   "cell_type": "code",
   "execution_count": 11,
   "id": "0cb05720",
   "metadata": {},
   "outputs": [
    {
     "data": {
      "text/plain": [
       "[2, 3, 4, 5]"
      ]
     },
     "execution_count": 11,
     "metadata": {},
     "output_type": "execute_result"
    }
   ],
   "source": [
    "# sometimes can be used in some python functions that take in a function as their argument\n",
    "\n",
    "# sorted() function - sort a list of values\n",
    "myList = [5,4,3,2]\n",
    "sorted(myList)"
   ]
  },
  {
   "cell_type": "code",
   "execution_count": 18,
   "id": "70bb366e-3d9d-47f0-bf84-d4e894b4dc1f",
   "metadata": {},
   "outputs": [
    {
     "data": {
      "text/plain": [
       "[2, 3, 4, 5, 10]"
      ]
     },
     "execution_count": 18,
     "metadata": {},
     "output_type": "execute_result"
    }
   ],
   "source": [
    "myList = [5,4,3,2]\n",
    "myList.append(10)\n",
    "sorted(myList)"
   ]
  },
  {
   "cell_type": "code",
   "execution_count": 13,
   "id": "6fcf5c06",
   "metadata": {},
   "outputs": [
    {
     "data": {
      "text/plain": [
       "[{'num': 1}, {'num': 2}, {'num': 3}]"
      ]
     },
     "execution_count": 13,
     "metadata": {},
     "output_type": "execute_result"
    }
   ],
   "source": [
    "# if the things you're sorting don't have an obvious numeric value, you can pass in a function that takes in an item in the list\n",
    "# and returns the value that python should be using to sort it\n",
    "# myList is a list of dictionaries here\n",
    "myList = [{'num': 3}, {'num': 2}, {'num': 1}]\n",
    "sorted(myList, key=lambda x: x['num'])\n",
    "# pass in key parameter, which is a function\n",
    "# x is going to be our item in here"
   ]
  },
  {
   "cell_type": "code",
   "execution_count": null,
   "id": "2a87f878",
   "metadata": {},
   "outputs": [],
   "source": [
    "### Lambda Functions\n",
    "### - Convenient way to write \"mini functions\" as values"
   ]
  }
 ],
 "metadata": {
  "kernelspec": {
   "display_name": "Python 3 (ipykernel)",
   "language": "python",
   "name": "python3"
  },
  "language_info": {
   "codemirror_mode": {
    "name": "ipython",
    "version": 3
   },
   "file_extension": ".py",
   "mimetype": "text/x-python",
   "name": "python",
   "nbconvert_exporter": "python",
   "pygments_lexer": "ipython3",
   "version": "3.12.3"
  }
 },
 "nbformat": 4,
 "nbformat_minor": 5
}
