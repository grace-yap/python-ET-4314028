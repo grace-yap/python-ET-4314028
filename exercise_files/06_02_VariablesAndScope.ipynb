{
 "cells": [
  {
   "cell_type": "markdown",
   "id": "a3234b19",
   "metadata": {},
   "source": [
    "## Function Scope"
   ]
  },
  {
   "cell_type": "code",
   "execution_count": 1,
   "id": "7e8c7923",
   "metadata": {},
   "outputs": [
    {
     "name": "stdout",
     "output_type": "stream",
     "text": [
      "(1, 2)\n",
      "{'operation': 'sum'}\n"
     ]
    }
   ],
   "source": [
    "def performOperation(*args, **kwargs):\n",
    "    print(args)\n",
    "    print(kwargs)\n",
    "\n",
    "performOperation(1, 2, operation='sum')"
   ]
  },
  {
   "cell_type": "markdown",
   "id": "3c713aa1",
   "metadata": {},
   "source": [
    "### locals()"
   ]
  },
  {
   "cell_type": "code",
   "execution_count": 2,
   "id": "1d65e494",
   "metadata": {},
   "outputs": [
    {
     "name": "stdout",
     "output_type": "stream",
     "text": [
      "{'num1': 1, 'num2': 2, 'operation': 'multiply'}\n"
     ]
    }
   ],
   "source": [
    "# local variables - things that are defined inside the function\n",
    "\n",
    "# locals() function - access all variables in a python function without using any asterisks\n",
    "# - these are the variable names that are available locally inside the function\n",
    "\n",
    "def performOperation(num1, num2, operation='sum'):\n",
    "    print(locals())\n",
    "\n",
    "performOperation(1, 2, operation='multiply\n",
    "# returns a dictionary of all the variables that have been passed in, whether they are positional arguments or keyword arguments"
   ]
  },
  {
   "cell_type": "code",
   "execution_count": 1,
   "id": "98520a3f-a988-4e02-be01-53bbad25ad29",
   "metadata": {},
   "outputs": [
    {
     "name": "stdout",
     "output_type": "stream",
     "text": [
      "{'num1': 1, 'num2': 2, 'operation': 'multiply'}\n"
     ]
    },
    {
     "ename": "NameError",
     "evalue": "name 'num1' is not defined",
     "output_type": "error",
     "traceback": [
      "\u001b[1;31m---------------------------------------------------------------------------\u001b[0m",
      "\u001b[1;31mNameError\u001b[0m                                 Traceback (most recent call last)",
      "Cell \u001b[1;32mIn[1], line 5\u001b[0m\n\u001b[0;32m      2\u001b[0m     \u001b[38;5;28mprint\u001b[39m(\u001b[38;5;28mlocals\u001b[39m())\n\u001b[0;32m      4\u001b[0m performOperation(\u001b[38;5;241m1\u001b[39m, \u001b[38;5;241m2\u001b[39m, operation\u001b[38;5;241m=\u001b[39m\u001b[38;5;124m'\u001b[39m\u001b[38;5;124mmultiply\u001b[39m\u001b[38;5;124m'\u001b[39m)\n\u001b[1;32m----> 5\u001b[0m \u001b[38;5;28mprint\u001b[39m(\u001b[43mnum1\u001b[49m)\n",
      "\u001b[1;31mNameError\u001b[0m: name 'num1' is not defined"
     ]
    }
   ],
   "source": [
    "def performOperation(num1, num2, operation='sum'):\n",
    "    print(locals())\n",
    "\n",
    "performOperation(1, 2, operation='multiply')\n",
    "print(num1)\n",
    "# error is returned because num1 has not been defined outside the function definition"
   ]
  },
  {
   "cell_type": "markdown",
   "id": "cb7460d3",
   "metadata": {},
   "source": [
    "### globals()"
   ]
  },
  {
   "cell_type": "code",
   "execution_count": 3,
   "id": "224306e8",
   "metadata": {},
   "outputs": [
    {
     "data": {
      "text/plain": [
       "{'__name__': '__main__',\n",
       " '__doc__': 'Automatically created module for IPython interactive environment',\n",
       " '__package__': None,\n",
       " '__loader__': None,\n",
       " '__spec__': None,\n",
       " '__builtin__': <module 'builtins' (built-in)>,\n",
       " '__builtins__': <module 'builtins' (built-in)>,\n",
       " '_ih': ['',\n",
       "  \"def performOperation(num1, num2, operation='sum'):\\n    print(locals())\\n\\nperformOperation(1, 2, operation='multiply')\\nprint(num1)\",\n",
       "  \"# locals() function - access all variables in a python function without using any asterisks\\n\\ndef performOperation(num1, num2, operation='sum'):\\n    print(locals())\\n\\nperformOperation(1, 2, operation='multiply')\",\n",
       "  '# global variables - things that are defined outside the function in the main body of the code\\n\\n# globals() function - gets all the global variables\\n\\nglobals()'],\n",
       " '_oh': {},\n",
       " '_dh': [WindowsPath('c:/GitHub/LIL-PythonEssentialTraining/python-ET-4314028/exercise_files')],\n",
       " 'In': ['',\n",
       "  \"def performOperation(num1, num2, operation='sum'):\\n    print(locals())\\n\\nperformOperation(1, 2, operation='multiply')\\nprint(num1)\",\n",
       "  \"# locals() function - access all variables in a python function without using any asterisks\\n\\ndef performOperation(num1, num2, operation='sum'):\\n    print(locals())\\n\\nperformOperation(1, 2, operation='multiply')\",\n",
       "  '# global variables - things that are defined outside the function in the main body of the code\\n\\n# globals() function - gets all the global variables\\n\\nglobals()'],\n",
       " 'Out': {},\n",
       " 'get_ipython': <bound method InteractiveShell.get_ipython of <ipykernel.zmqshell.ZMQInteractiveShell object at 0x00000184CCBFBC20>>,\n",
       " 'exit': <IPython.core.autocall.ZMQExitAutocall at 0x184cde40d10>,\n",
       " 'quit': <IPython.core.autocall.ZMQExitAutocall at 0x184cde40d10>,\n",
       " 'open': <function _io.open(file, mode='r', buffering=-1, encoding=None, errors=None, newline=None, closefd=True, opener=None)>,\n",
       " '_': '',\n",
       " '__': '',\n",
       " '___': '',\n",
       " '__session__': 'c:\\\\GitHub\\\\LIL-PythonEssentialTraining\\\\python-ET-4314028\\\\exercise_files\\\\06_02_VariablesAndScope.ipynb',\n",
       " '_i': \"# locals() function - access all variables in a python function without using any asterisks\\n\\ndef performOperation(num1, num2, operation='sum'):\\n    print(locals())\\n\\nperformOperation(1, 2, operation='multiply')\",\n",
       " '_ii': \"def performOperation(num1, num2, operation='sum'):\\n    print(locals())\\n\\nperformOperation(1, 2, operation='multiply')\\nprint(num1)\",\n",
       " '_iii': '',\n",
       " '_i1': \"def performOperation(num1, num2, operation='sum'):\\n    print(locals())\\n\\nperformOperation(1, 2, operation='multiply')\\nprint(num1)\",\n",
       " 'performOperation': <function __main__.performOperation(num1, num2, operation='sum')>,\n",
       " '_i2': \"# locals() function - access all variables in a python function without using any asterisks\\n\\ndef performOperation(num1, num2, operation='sum'):\\n    print(locals())\\n\\nperformOperation(1, 2, operation='multiply')\",\n",
       " '_i3': '# global variables - things that are defined outside the function in the main body of the code\\n\\n# globals() function - gets all the global variables\\n\\nglobals()'}"
      ]
     },
     "execution_count": 3,
     "metadata": {},
     "output_type": "execute_result"
    }
   ],
   "source": [
    "# global variables - things that are defined outside the function in the main body of the code\n",
    "\n",
    "# globals() function - gets all the global variables\n",
    "\n",
    "globals()\n",
    "# some are built-in python variables, some are variables that jupyter notebook uses to keep track of its data\n",
    "# example:\n",
    "# '_ih': ['',\n",
    "#   \"def performOperation(num1, num2, operation='sum'):\\n    print(locals())\\n\\nperformOperation(1, 2, operation='multiply')\\nprint(num1)\",\n",
    "#   \"# locals() function - access all variables in a python function without using any asterisks\\n\\ndef performOperation(num1, num2, operation='sum'):\\n    print(locals())\\n\\nperformOperation(1, 2, operation='multiply')\",\n",
    "#   '# global variables - things that are defined outside the function in the main body of the code\\n\\n# globals() function - gets all the global variables\\n\\nglobals()']\n",
    "# these are the contents of my jupyter notebook cells"
   ]
  },
  {
   "cell_type": "markdown",
   "id": "e4f3ceba",
   "metadata": {},
   "source": [
    "### Global and Local scope"
   ]
  },
  {
   "cell_type": "code",
   "execution_count": 8,
   "id": "ac5ac1b9",
   "metadata": {},
   "outputs": [
    {
     "name": "stdout",
     "output_type": "stream",
     "text": [
      "Some global data\n",
      "{'varA': 1, 'varB': 2}\n",
      "Some global data\n",
      "{'varC': 3, 'varB': 4}\n"
     ]
    }
   ],
   "source": [
    "# scope - which variables you have access to in a particular line of code\n",
    "\n",
    "message = 'Some global data'\n",
    "\n",
    "def function1(varA, varB):\n",
    "    print(message)\n",
    "    print(locals())\n",
    "\n",
    "def function2(varC, varB):\n",
    "    print(message)\n",
    "    print(locals())\n",
    "    \n",
    "function1(1, 2)\n",
    "function2(3, 4)"
   ]
  },
  {
   "cell_type": "code",
   "execution_count": 4,
   "id": "578578d3-e08f-4e35-b60f-eb84b06a9b14",
   "metadata": {},
   "outputs": [
    {
     "name": "stdout",
     "output_type": "stream",
     "text": [
      "Some global data\n",
      "{'varA': 1, 'varB': 2}\n"
     ]
    },
    {
     "ename": "NameError",
     "evalue": "name 'varA' is not defined",
     "output_type": "error",
     "traceback": [
      "\u001b[1;31m---------------------------------------------------------------------------\u001b[0m",
      "\u001b[1;31mNameError\u001b[0m                                 Traceback (most recent call last)",
      "Cell \u001b[1;32mIn[4], line 13\u001b[0m\n\u001b[0;32m     10\u001b[0m     \u001b[38;5;28mprint\u001b[39m(\u001b[38;5;28mlocals\u001b[39m())\n\u001b[0;32m     12\u001b[0m function1(\u001b[38;5;241m1\u001b[39m, \u001b[38;5;241m2\u001b[39m)\n\u001b[1;32m---> 13\u001b[0m \u001b[43mfunction2\u001b[49m\u001b[43m(\u001b[49m\u001b[38;5;241;43m3\u001b[39;49m\u001b[43m,\u001b[49m\u001b[43m \u001b[49m\u001b[38;5;241;43m4\u001b[39;49m\u001b[43m)\u001b[49m\n",
      "Cell \u001b[1;32mIn[4], line 8\u001b[0m, in \u001b[0;36mfunction2\u001b[1;34m(varC, varB)\u001b[0m\n\u001b[0;32m      7\u001b[0m \u001b[38;5;28;01mdef\u001b[39;00m \u001b[38;5;21mfunction2\u001b[39m(varC, varB):\n\u001b[1;32m----> 8\u001b[0m     \u001b[38;5;28mprint\u001b[39m(\u001b[43mvarA\u001b[49m)\n\u001b[0;32m      9\u001b[0m     \u001b[38;5;28mprint\u001b[39m(message)\n\u001b[0;32m     10\u001b[0m     \u001b[38;5;28mprint\u001b[39m(\u001b[38;5;28mlocals\u001b[39m())\n",
      "\u001b[1;31mNameError\u001b[0m: name 'varA' is not defined"
     ]
    }
   ],
   "source": [
    "message = 'Some global data'\n",
    "\n",
    "def function1(varA, varB):\n",
    "    print(message)\n",
    "    print(locals())\n",
    "\n",
    "def function2(varC, varB):\n",
    "    print(varA)\n",
    "    # they don't have access to each other's local variable\n",
    "    print(message)\n",
    "    print(locals())\n",
    "    \n",
    "function1(1, 2)\n",
    "function2(3, 4)\n",
    "# you get an error because varA is not defined in function2()"
   ]
  },
  {
   "cell_type": "code",
   "execution_count": 10,
   "id": "34839606",
   "metadata": {},
   "outputs": [
    {
     "name": "stdout",
     "output_type": "stream",
     "text": [
      "1\n",
      "Some local data\n",
      "{'varA': 1, 'varB': 2, 'message': 'Some local data'}\n",
      "2\n",
      "Some global data\n",
      "{'varC': 3, 'varB': 4}\n"
     ]
    }
   ],
   "source": [
    "message = 'Some global data'\n",
    "varA = 2 # define varA in the global scope\n",
    "\n",
    "def function1(varA, varB):\n",
    "    message = 'Some local data'\n",
    "    print(varA) # prints 1 because we're using varA that we passed in the local scope\n",
    "    print(message)\n",
    "    print(locals())\n",
    "    \n",
    "    \n",
    "def function2(varC, varB):\n",
    "    print(varA) # prints out 2 because it's using the definition in the global scope\n",
    "    print(message)\n",
    "    print(locals())\n",
    "    \n",
    "function1(1, 2)\n",
    "function2(3, 4)\n",
    "\n",
    "# when python goes to look up the data associated with the variable name, it checks the LOCAL scope FIRST.\n",
    "# and then if that's not defined, it goes to the global scope."
   ]
  },
  {
   "cell_type": "code",
   "execution_count": 13,
   "id": "fb5b1343",
   "metadata": {},
   "outputs": [
    {
     "name": "stdout",
     "output_type": "stream",
     "text": [
      "1\n",
      "inner_function local scope: {'varA': 123, 'varB': 456}\n"
     ]
    }
   ],
   "source": [
    "# declare a function within another function\n",
    "\n",
    "def function1(varA, varB):\n",
    "    message = 'Some local data'\n",
    "    print(varA)\n",
    "    def inner_function(varA, varB):\n",
    "        print(f'inner_function local scope: {locals()}')\n",
    "        \n",
    "    inner_function(123, 456)\n",
    "    \n",
    "\n",
    "function1(1, 2) \n"
   ]
  },
  {
   "cell_type": "code",
   "execution_count": 6,
   "id": "26e2eff3-401a-4b84-afa5-dcfe9713c8a5",
   "metadata": {},
   "outputs": [
    {
     "name": "stdout",
     "output_type": "stream",
     "text": [
      "1\n",
      "inner_function local scope: {'varA': 123, 'varB': 456}\n"
     ]
    }
   ],
   "source": [
    "def function1(varA, varB):\n",
    "    message = 'Some local data'\n",
    "    print(varA)\n",
    "    def inner_function(varA, varB):\n",
    "        print(f'inner_function local scope: {locals()}')\n",
    "    \n",
    "    inner_function(123, 456)\n",
    "    \n",
    "\n",
    "function1(1, 2)\n",
    "# call function1(), which defines inner_function() that has its own local scope, and then it calls that inner_function()\n",
    "# you CANNOT call inner_function() outside of function1()"
   ]
  },
  {
   "cell_type": "code",
   "execution_count": 7,
   "id": "8728a430-8532-412b-bab9-a3d57d767237",
   "metadata": {},
   "outputs": [
    {
     "name": "stdout",
     "output_type": "stream",
     "text": [
      "1\n",
      "inner_function local scope: {'varA': 123, 'varB': 456}\n"
     ]
    },
    {
     "ename": "NameError",
     "evalue": "name 'inner_function' is not defined",
     "output_type": "error",
     "traceback": [
      "\u001b[1;31m---------------------------------------------------------------------------\u001b[0m",
      "\u001b[1;31mNameError\u001b[0m                                 Traceback (most recent call last)",
      "Cell \u001b[1;32mIn[7], line 11\u001b[0m\n\u001b[0;32m      7\u001b[0m     inner_function(\u001b[38;5;241m123\u001b[39m, \u001b[38;5;241m456\u001b[39m)\n\u001b[0;32m     10\u001b[0m function1(\u001b[38;5;241m1\u001b[39m, \u001b[38;5;241m2\u001b[39m)\n\u001b[1;32m---> 11\u001b[0m \u001b[43minner_function\u001b[49m(\u001b[38;5;241m123\u001b[39m, \u001b[38;5;241m456\u001b[39m)\n\u001b[0;32m     12\u001b[0m \u001b[38;5;66;03m# you CANNOT call inner_function() outside of function1()\u001b[39;00m\n\u001b[0;32m     13\u001b[0m \u001b[38;5;66;03m# you get a syntax error because inner_function() is not defined\u001b[39;00m\n",
      "\u001b[1;31mNameError\u001b[0m: name 'inner_function' is not defined"
     ]
    }
   ],
   "source": [
    "def function1(varA, varB):\n",
    "    message = 'Some local data'\n",
    "    print(varA)\n",
    "    def inner_function(varA, varB):\n",
    "        print(f'inner_function local scope: {locals()}')\n",
    "    \n",
    "    inner_function(123, 456)\n",
    "    \n",
    "\n",
    "function1(1, 2)\n",
    "inner_function(123, 456)\n",
    "# you CANNOT call inner_function() outside of function1()\n",
    "# you get a syntax error because inner_function() is not defined"
   ]
  },
  {
   "cell_type": "code",
   "execution_count": 14,
   "id": "8930f2aa",
   "metadata": {},
   "outputs": [
    {
     "name": "stdout",
     "output_type": "stream",
     "text": [
      "1\n",
      "{'varA': 1, 'varB': 2, 'message': 'Some local data', 'inner_function': <function function1.<locals>.inner_function at 0x107b6af80>}\n",
      "inner_function local scope: {'varA': 123, 'varB': 456}\n"
     ]
    }
   ],
   "source": [
    "def function1(varA, varB):\n",
    "    message = 'Some local data'\n",
    "    print(varA)\n",
    "    def inner_function(varA, varB):\n",
    "        print(f'inner_function local scope: {locals()}')\n",
    "    \n",
    "    print(locals())\n",
    "    # inner_function is defined as a variable\n",
    "    inner_function(123, 456)\n",
    "\n",
    "function1(1, 2)"
   ]
  },
  {
   "cell_type": "code",
   "execution_count": null,
   "id": "e12c6b2e",
   "metadata": {},
   "outputs": [],
   "source": []
  }
 ],
 "metadata": {
  "kernelspec": {
   "display_name": "Python 3 (ipykernel)",
   "language": "python",
   "name": "python3"
  },
  "language_info": {
   "codemirror_mode": {
    "name": "ipython",
    "version": 3
   },
   "file_extension": ".py",
   "mimetype": "text/x-python",
   "name": "python",
   "nbconvert_exporter": "python",
   "pygments_lexer": "ipython3",
   "version": "3.12.3"
  }
 },
 "nbformat": 4,
 "nbformat_minor": 5
}
