{
 "cells": [
  {
   "cell_type": "markdown",
   "id": "6e97b9bf",
   "metadata": {},
   "source": [
    "## For"
   ]
  },
  {
   "cell_type": "code",
   "execution_count": 6,
   "id": "5d4b6b1b",
   "metadata": {},
   "outputs": [
    {
     "name": "stdout",
     "output_type": "stream",
     "text": [
      "1\n",
      "2\n",
      "3\n",
      "4\n"
     ]
    }
   ],
   "source": [
    "myList = [1,2,3,4]\n",
    "for item in myList:\n",
    "    print(item)"
   ]
  },
  {
   "cell_type": "markdown",
   "id": "905ce61c",
   "metadata": {},
   "source": [
    "### Pass"
   ]
  },
  {
   "cell_type": "code",
   "execution_count": 7,
   "id": "190c632c",
   "metadata": {},
   "outputs": [],
   "source": [
    "animalLookup = {\n",
    "    'a': ['aardvark', 'antelope'],\n",
    "    'b': ['bear'],\n",
    "    'c': ['cat'],\n",
    "    'd': ['dog'],\n",
    "}\n",
    "\n",
    "for letter, animals in animalLookup.items():\n",
    "    pass"
   ]
  },
  {
   "cell_type": "markdown",
   "id": "aa2e7a59",
   "metadata": {},
   "source": [
    "### Continue"
   ]
  },
  {
   "cell_type": "code",
   "execution_count": 8,
   "id": "9bae4823",
   "metadata": {},
   "outputs": [
    {
     "name": "stdout",
     "output_type": "stream",
     "text": [
      "Only one animal! bear\n",
      "Only one animal! cat\n",
      "Only one animal! dog\n"
     ]
    }
   ],
   "source": [
    "for letter, animals in animalLookup.items():\n",
    "    if len(animals) > 1:\n",
    "        continue\n",
    "    print(f'Only one animal! {animals[0]}')"
   ]
  },
  {
   "cell_type": "markdown",
   "id": "d6d0ce9c",
   "metadata": {},
   "source": [
    "### Break"
   ]
  },
  {
   "cell_type": "code",
   "execution_count": 9,
   "id": "725b3e12",
   "metadata": {},
   "outputs": [
    {
     "name": "stdout",
     "output_type": "stream",
     "text": [
      "Found 2 animals: ['aardvark', 'antelope']\n"
     ]
    }
   ],
   "source": [
    "for letter, animals in animalLookup.items():\n",
    "    if len(animals) > 1:\n",
    "        print(f'Found {len(animals)} animals: {animals}')\n",
    "        break\n",
    "# if there are more instances of 2 or more animals in the list, it will just stop after the first instance because of the break statement"
   ]
  },
  {
   "cell_type": "markdown",
   "id": "b48d42fc",
   "metadata": {},
   "source": [
    "### For / Else"
   ]
  },
  {
   "cell_type": "code",
   "execution_count": 6,
   "id": "e8873cb6-6112-46e2-9787-31a77c47a83b",
   "metadata": {},
   "outputs": [
    {
     "data": {
      "text/plain": [
       "3"
      ]
     },
     "execution_count": 6,
     "metadata": {},
     "output_type": "execute_result"
    }
   ],
   "source": [
    "int(11**0.5)"
   ]
  },
  {
   "cell_type": "code",
   "execution_count": 10,
   "id": "4d74a187",
   "metadata": {},
   "outputs": [
    {
     "name": "stdout",
     "output_type": "stream",
     "text": [
      "2 is prime!\n",
      "3 is prime!\n",
      "5 is prime!\n",
      "7 is prime!\n",
      "11 is prime!\n",
      "13 is prime!\n",
      "17 is prime!\n",
      "19 is prime!\n",
      "23 is prime!\n",
      "29 is prime!\n",
      "31 is prime!\n",
      "37 is prime!\n",
      "41 is prime!\n",
      "43 is prime!\n",
      "47 is prime!\n",
      "53 is prime!\n",
      "59 is prime!\n",
      "61 is prime!\n",
      "67 is prime!\n",
      "71 is prime!\n",
      "73 is prime!\n",
      "79 is prime!\n",
      "83 is prime!\n",
      "89 is prime!\n",
      "97 is prime!\n"
     ]
    }
   ],
   "source": [
    "# find all of the primes between 2 and 100\n",
    "\n",
    "# number variable is the one that's gonna be tested for primality\n",
    "for number in range(2, 100):\n",
    "    # loop through all the potential factors of that number to test each one and see if it's divisible by that factor\n",
    "    # we only need to go up to the square root of the number to test to see if it's prime.\n",
    "    # if we haven't found a factor by the square root of the number by the time we haven't reached the square root, then we know that it's prime\n",
    "    for factor in range(2, int(number ** 0.5) + 1):\n",
    "        # if it's evenly divisible, we know that the number isn't prime because it has a factor, so at that point, we just break.\n",
    "        if number % factor == 0:\n",
    "            break\n",
    "            # if the number has a factor, the break happens, and we skip the else\n",
    "    # this else statement will only be entered if a break DID NOT happen in the previous loop\n",
    "            # else, we didn't find any factors, the break didn't occur, and it's prime.\n",
    "    else:\n",
    "        print(f'{number} is prime!')\n",
    "        "
   ]
  },
  {
   "cell_type": "code",
   "execution_count": null,
   "id": "a8475566-c6d1-48a4-9bde-da5fc27ccfd8",
   "metadata": {},
   "outputs": [],
   "source": [
    "# The break-else pattern can also be used in while loops.\n",
    "# If you put a break in your while loop, you can add an else statement at the end of it immediately after that loop.\n",
    "# That else ONLY happens if the break WAS NOT thrown."
   ]
  },
  {
   "cell_type": "markdown",
   "id": "b5fcbf05",
   "metadata": {},
   "source": [
    "**Note:** The following cell has been modified from what was shown in the video in order to fix a bug. The variable <code>found_factors</code> was incorrectly spelled as <code>found_factor</code>"
   ]
  },
  {
   "cell_type": "code",
   "execution_count": 8,
   "id": "92996fbd",
   "metadata": {},
   "outputs": [
    {
     "name": "stdout",
     "output_type": "stream",
     "text": [
      "2 is prime!\n",
      "3 is prime!\n",
      "5 is prime!\n",
      "7 is prime!\n",
      "11 is prime!\n",
      "13 is prime!\n",
      "17 is prime!\n",
      "19 is prime!\n",
      "23 is prime!\n",
      "29 is prime!\n",
      "31 is prime!\n",
      "37 is prime!\n",
      "41 is prime!\n",
      "43 is prime!\n",
      "47 is prime!\n",
      "53 is prime!\n",
      "59 is prime!\n",
      "61 is prime!\n",
      "67 is prime!\n",
      "71 is prime!\n",
      "73 is prime!\n",
      "79 is prime!\n",
      "83 is prime!\n",
      "89 is prime!\n",
      "97 is prime!\n"
     ]
    }
   ],
   "source": [
    "# extra variable used by programmers not as knowledgeable:\n",
    "\n",
    "for number in range(2, 100):\n",
    "    found_factors = False\n",
    "    for factor in range(2, int(number ** 0.5) + 1):\n",
    "        if number % factor == 0:\n",
    "            found_factors = True\n",
    "    if not found_factors:\n",
    "        print(f'{number} is prime!')"
   ]
  },
  {
   "cell_type": "code",
   "execution_count": 7,
   "id": "689ef453",
   "metadata": {},
   "outputs": [
    {
     "name": "stdout",
     "output_type": "stream",
     "text": [
      "2 is prime!\n",
      "3 is prime!\n",
      "5 is prime!\n",
      "7 is prime!\n",
      "11 is prime!\n",
      "13 is prime!\n",
      "17 is prime!\n",
      "19 is prime!\n",
      "23 is prime!\n",
      "29 is prime!\n",
      "31 is prime!\n",
      "37 is prime!\n",
      "41 is prime!\n",
      "43 is prime!\n",
      "47 is prime!\n",
      "53 is prime!\n",
      "59 is prime!\n",
      "61 is prime!\n",
      "67 is prime!\n",
      "71 is prime!\n",
      "73 is prime!\n",
      "79 is prime!\n",
      "83 is prime!\n",
      "89 is prime!\n",
      "97 is prime!\n"
     ]
    }
   ],
   "source": [
    "# includes break (same as lecture video)\n",
    "for number in range(2, 100):\n",
    "    found_factors = False\n",
    "    for factor in range(2, int(number ** 0.5) + 1):\n",
    "        if number % factor == 0:\n",
    "            found_factors = True\n",
    "            break\n",
    "    if not found_factors:\n",
    "        print(f'{number} is prime!')"
   ]
  },
  {
   "cell_type": "code",
   "execution_count": null,
   "id": "b30739c0-39b6-43e0-a1bb-0a45c73b80fc",
   "metadata": {},
   "outputs": [],
   "source": []
  }
 ],
 "metadata": {
  "kernelspec": {
   "display_name": "Python 3 (ipykernel)",
   "language": "python",
   "name": "python3"
  },
  "language_info": {
   "codemirror_mode": {
    "name": "ipython",
    "version": 3
   },
   "file_extension": ".py",
   "mimetype": "text/x-python",
   "name": "python",
   "nbconvert_exporter": "python",
   "pygments_lexer": "ipython3",
   "version": "3.12.3"
  }
 },
 "nbformat": 4,
 "nbformat_minor": 5
}
