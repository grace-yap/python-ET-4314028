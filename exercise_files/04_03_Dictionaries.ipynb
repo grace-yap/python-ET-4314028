{
 "cells": [
  {
   "cell_type": "code",
   "execution_count": 1,
   "id": "a6cd1c0a",
   "metadata": {},
   "outputs": [],
   "source": [
    "from collections import defaultdict"
   ]
  },
  {
   "cell_type": "markdown",
   "id": "f635ede0",
   "metadata": {},
   "source": [
    "## Dictionaries"
   ]
  },
  {
   "cell_type": "code",
   "execution_count": 1,
   "id": "68d250c4",
   "metadata": {},
   "outputs": [
    {
     "data": {
      "text/plain": [
       "{'a': 'aardvark', 'b': 'bear', 'c': 'cat'}"
      ]
     },
     "execution_count": 1,
     "metadata": {},
     "output_type": "execute_result"
    }
   ],
   "source": [
    "animals = {\n",
    "    'a': 'aardvark',\n",
    "    'b': 'bear',\n",
    "    'c': 'cat',\n",
    "        # trailing comma - , at the end of the last key-value pair in the dictionary\n",
    "        # - don't technically need it, the code will run fine without it\n",
    "        # - but it is convention to add it there\n",
    "}\n",
    "animals"
   ]
  },
  {
   "cell_type": "code",
   "execution_count": 2,
   "id": "841f1cd7",
   "metadata": {},
   "outputs": [
    {
     "data": {
      "text/plain": [
       "'aardvark'"
      ]
     },
     "execution_count": 2,
     "metadata": {},
     "output_type": "execute_result"
    }
   ],
   "source": [
    "animals['a']"
   ]
  },
  {
   "cell_type": "code",
   "execution_count": 3,
   "id": "04782755",
   "metadata": {},
   "outputs": [],
   "source": [
    "# add new key-value pair to dictionary\n",
    "animals['d'] = 'dog'"
   ]
  },
  {
   "cell_type": "code",
   "execution_count": 6,
   "id": "c65fd4ff",
   "metadata": {},
   "outputs": [
    {
     "data": {
      "text/plain": [
       "{'a': 'aardvark', 'b': 'bear', 'c': 'cat', 'd': 'dog'}"
      ]
     },
     "execution_count": 6,
     "metadata": {},
     "output_type": "execute_result"
    }
   ],
   "source": [
    "animals"
   ]
  },
  {
   "cell_type": "code",
   "execution_count": 5,
   "id": "5fbf901e-f563-4bd9-8227-2158189c7ec7",
   "metadata": {},
   "outputs": [],
   "source": [
    "animals[1] = 'number one'"
   ]
  },
  {
   "cell_type": "code",
   "execution_count": 6,
   "id": "caf64969-9278-4cd8-934d-bea08da85928",
   "metadata": {},
   "outputs": [
    {
     "data": {
      "text/plain": [
       "{'a': 'aardvark', 'b': 'bear', 'c': 'cat', 'd': 'dog', 1: 'number one'}"
      ]
     },
     "execution_count": 6,
     "metadata": {},
     "output_type": "execute_result"
    }
   ],
   "source": [
    "animals"
   ]
  },
  {
   "cell_type": "code",
   "execution_count": 10,
   "id": "1a5be2d9",
   "metadata": {},
   "outputs": [
    {
     "data": {
      "text/plain": [
       "{'a': 'antelope', 'b': 'bear', 'c': 'cat', 'd': 'dog', 1: 'number one'}"
      ]
     },
     "execution_count": 10,
     "metadata": {},
     "output_type": "execute_result"
    }
   ],
   "source": [
    "# update key-vallue pair in the dictionary\n",
    "animals['a'] = 'antelope'\n",
    "animals"
   ]
  },
  {
   "cell_type": "code",
   "execution_count": 5,
   "id": "a55c6d44",
   "metadata": {},
   "outputs": [
    {
     "data": {
      "text/plain": [
       "dict_keys(['a', 'b', 'c', 'd'])"
      ]
     },
     "execution_count": 5,
     "metadata": {},
     "output_type": "execute_result"
    }
   ],
   "source": [
    "# get keys of the dictionary\n",
    "# the result is a dict_keys object rather than a list\n",
    "# you can iterate over dict_keys\n",
    "# dict_keys are immutable\n",
    "# they are immutable -- you can't change them directly; you can just add to them\n",
    "# you have to modify the underlying dictionary in order to change them\n",
    "animals.keys()"
   ]
  },
  {
   "cell_type": "code",
   "execution_count": 7,
   "id": "37ee823b-6be8-4167-9ece-b79dbddb6e83",
   "metadata": {},
   "outputs": [
    {
     "data": {
      "text/plain": [
       "dict_keys"
      ]
     },
     "execution_count": 7,
     "metadata": {},
     "output_type": "execute_result"
    }
   ],
   "source": [
    "type(animals.keys())"
   ]
  },
  {
   "cell_type": "code",
   "execution_count": 6,
   "id": "4c851484",
   "metadata": {},
   "outputs": [
    {
     "data": {
      "text/plain": [
       "dict_values(['antelope', 'bear', 'cat', 'dog'])"
      ]
     },
     "execution_count": 6,
     "metadata": {},
     "output_type": "execute_result"
    }
   ],
   "source": [
    "# get values of the dictionary\n",
    "animals.values()"
   ]
  },
  {
   "cell_type": "code",
   "execution_count": 8,
   "id": "36b86dbd-99bd-47fe-b2cc-a04d30ee07b9",
   "metadata": {},
   "outputs": [
    {
     "data": {
      "text/plain": [
       "dict_values"
      ]
     },
     "execution_count": 8,
     "metadata": {},
     "output_type": "execute_result"
    }
   ],
   "source": [
    "type(animals.values())"
   ]
  },
  {
   "cell_type": "code",
   "execution_count": 9,
   "id": "f6c35bdc",
   "metadata": {},
   "outputs": [
    {
     "data": {
      "text/plain": [
       "['a', 'b', 'c', 'd']"
      ]
     },
     "execution_count": 9,
     "metadata": {},
     "output_type": "execute_result"
    }
   ],
   "source": [
    "# convert dict_keys to list (make a copy of the dict_keys object and turned it to a list)\n",
    "list(animals.keys())"
   ]
  },
  {
   "cell_type": "code",
   "execution_count": 11,
   "id": "dcf867b7",
   "metadata": {},
   "outputs": [
    {
     "ename": "KeyError",
     "evalue": "'e'",
     "output_type": "error",
     "traceback": [
      "\u001b[0;31m---------------------------------------------------------------------------\u001b[0m",
      "\u001b[0;31mKeyError\u001b[0m                                  Traceback (most recent call last)",
      "Input \u001b[0;32mIn [11]\u001b[0m, in \u001b[0;36m<module>\u001b[0;34m\u001b[0m\n\u001b[0;32m----> 1\u001b[0m \u001b[43manimals\u001b[49m\u001b[43m[\u001b[49m\u001b[38;5;124;43m'\u001b[39;49m\u001b[38;5;124;43me\u001b[39;49m\u001b[38;5;124;43m'\u001b[39;49m\u001b[43m]\u001b[49m\n",
      "\u001b[0;31mKeyError\u001b[0m: 'e'"
     ]
    }
   ],
   "source": [
    "# accessing a key that doesn't exist returns an error\n",
    "animals['e']"
   ]
  },
  {
   "cell_type": "code",
   "execution_count": null,
   "id": "19bb62fb-362a-4ccb-9596-001f179e142c",
   "metadata": {},
   "outputs": [],
   "source": [
    "# get() function - second argument (default value) is optional\n",
    "# syntax:\n",
    "# dictionary.get(<key>, <default value>)\n",
    "animals"
   ]
  },
  {
   "cell_type": "code",
   "execution_count": 4,
   "id": "7c06306f",
   "metadata": {},
   "outputs": [
    {
     "data": {
      "text/plain": [
       "'default animal'"
      ]
     },
     "execution_count": 4,
     "metadata": {},
     "output_type": "execute_result"
    }
   ],
   "source": [
    "animals.get('e','default animal')"
   ]
  },
  {
   "cell_type": "code",
   "execution_count": 7,
   "id": "03ad04f0-a922-48c5-b3d5-50e5e577fb3a",
   "metadata": {},
   "outputs": [
    {
     "data": {
      "text/plain": [
       "'default number'"
      ]
     },
     "execution_count": 7,
     "metadata": {},
     "output_type": "execute_result"
    }
   ],
   "source": [
    "animals.get(2,'default number')"
   ]
  },
  {
   "cell_type": "code",
   "execution_count": 8,
   "id": "71e13d9b-8c44-40ec-add1-97cb79940b9f",
   "metadata": {},
   "outputs": [
    {
     "name": "stdout",
     "output_type": "stream",
     "text": [
      "None\n"
     ]
    }
   ],
   "source": [
    "print(animals.get('e'))"
   ]
  },
  {
   "cell_type": "code",
   "execution_count": 11,
   "id": "29784803-758e-42fc-8985-a4a3f438fac5",
   "metadata": {},
   "outputs": [
    {
     "data": {
      "text/plain": [
       "'antelope'"
      ]
     },
     "execution_count": 11,
     "metadata": {},
     "output_type": "execute_result"
    }
   ],
   "source": [
    "animals.get('a')"
   ]
  },
  {
   "cell_type": "code",
   "execution_count": 12,
   "id": "df87bf97",
   "metadata": {},
   "outputs": [
    {
     "data": {
      "text/plain": [
       "5"
      ]
     },
     "execution_count": 12,
     "metadata": {},
     "output_type": "execute_result"
    }
   ],
   "source": [
    "len(animals)"
   ]
  },
  {
   "cell_type": "code",
   "execution_count": 17,
   "id": "e1a8477a",
   "metadata": {},
   "outputs": [],
   "source": [
    "# dictionary where the values are lists\n",
    "animals = {\n",
    "    'a': ['aardvark', 'antelope'],\n",
    "    'b': ['bear'],\n",
    "}"
   ]
  },
  {
   "cell_type": "code",
   "execution_count": 18,
   "id": "97b04f20",
   "metadata": {},
   "outputs": [],
   "source": [
    "# add new value to existing key with list value\n",
    "animals['b'].append('bison')"
   ]
  },
  {
   "cell_type": "code",
   "execution_count": 19,
   "id": "f862d71c",
   "metadata": {},
   "outputs": [],
   "source": [
    "# add new value without existing key and list\n",
    "animals['c'] = ['cat']"
   ]
  },
  {
   "cell_type": "code",
   "execution_count": 20,
   "id": "ab292c6b",
   "metadata": {},
   "outputs": [],
   "source": [
    "# What if you don't know if the key exists or not but you want to add a new value?\n",
    "\n",
    "# Inelegant Solution:\n",
    "# check if c key exists in dictionary first and create an empty list for it if it doesn't exist yet\n",
    "if 'c' not in animals:\n",
    "    animals['c'] = []\n",
    "# whether if condition is fulfilled or not, append new value\n",
    "animals['c'].append('cat')"
   ]
  },
  {
   "cell_type": "markdown",
   "id": "99f7f409",
   "metadata": {},
   "source": [
    "### The Default Dict"
   ]
  },
  {
   "cell_type": "code",
   "execution_count": 2,
   "id": "71803fe4",
   "metadata": {},
   "outputs": [],
   "source": [
    "# import defaultdic from collection (topmost cell) to use Default Dictionary\n",
    "# to create a new default dict, you need to pass the type of object that it should return by default\n",
    "# syntax:\n",
    "# instance_name = defaultdict(<object type>)\n",
    "\n",
    "# for this, we want to return a list\n",
    "animals = defaultdict(list)\n",
    "\n",
    "# COMMON MISTAKE using defaultdict - people return or pass in an instance of the thing that they want returned \n",
    "# for example, animals = defaultdict([])\n",
    "# but you have to actually give it a sort of callable function. say use this everytime you need to make a new thing that gets returned"
   ]
  },
  {
   "cell_type": "code",
   "execution_count": 3,
   "id": "57e747f6",
   "metadata": {},
   "outputs": [
    {
     "data": {
      "text/plain": [
       "defaultdict(list, {})"
      ]
     },
     "execution_count": 3,
     "metadata": {},
     "output_type": "execute_result"
    }
   ],
   "source": [
    "# no values yet upon creation\n",
    "animals"
   ]
  },
  {
   "cell_type": "code",
   "execution_count": 3,
   "id": "faaa95e0",
   "metadata": {},
   "outputs": [
    {
     "data": {
      "text/plain": [
       "defaultdict(list, {'e': ['elephant']})"
      ]
     },
     "execution_count": 3,
     "metadata": {},
     "output_type": "execute_result"
    }
   ],
   "source": [
    "# automatically creates new key-value without us having to manually check if key already exists\n",
    "animals['e'].append('elephant')\n",
    "animals"
   ]
  },
  {
   "cell_type": "code",
   "execution_count": 4,
   "id": "b8fefdb6",
   "metadata": {},
   "outputs": [
    {
     "data": {
      "text/plain": [
       "defaultdict(list, {'e': ['elephant', 'emu']})"
      ]
     },
     "execution_count": 4,
     "metadata": {},
     "output_type": "execute_result"
    }
   ],
   "source": [
    "# automatically appends new value without us having to manually check if key already exists\n",
    "animals['e'].append('emu')\n",
    "animals"
   ]
  },
  {
   "cell_type": "code",
   "execution_count": 5,
   "id": "f8f53dc5",
   "metadata": {},
   "outputs": [
    {
     "data": {
      "text/plain": [
       "[]"
      ]
     },
     "execution_count": 5,
     "metadata": {},
     "output_type": "execute_result"
    }
   ],
   "source": [
    "# returns empty for non-existing key\n",
    "animals['f']"
   ]
  },
  {
   "cell_type": "code",
   "execution_count": 6,
   "id": "6973288b",
   "metadata": {},
   "outputs": [
    {
     "data": {
      "text/plain": [
       "defaultdict(list, {'e': ['elephant', 'emu'], 'f': []})"
      ]
     },
     "execution_count": 6,
     "metadata": {},
     "output_type": "execute_result"
    }
   ],
   "source": [
    "animals"
   ]
  },
  {
   "cell_type": "code",
   "execution_count": 11,
   "id": "c28c8ef8-fe73-4d4d-bf0d-ef431946d5d9",
   "metadata": {},
   "outputs": [
    {
     "data": {
      "text/plain": [
       "defaultdict(list, {'e': ['elephant', 'emu', 'emu', 'emu', 'emu'], 'f': []})"
      ]
     },
     "execution_count": 11,
     "metadata": {},
     "output_type": "execute_result"
    }
   ],
   "source": [
    "animals['e'].append('emu')\n",
    "animals"
   ]
  },
  {
   "cell_type": "code",
   "execution_count": 7,
   "id": "b522bfbb-4f12-4c4d-b46d-c90b51efe854",
   "metadata": {},
   "outputs": [
    {
     "data": {
      "text/plain": [
       "collections.defaultdict"
      ]
     },
     "execution_count": 7,
     "metadata": {},
     "output_type": "execute_result"
    }
   ],
   "source": [
    "type(animals)"
   ]
  },
  {
   "cell_type": "code",
   "execution_count": null,
   "id": "c35aec43-a815-408b-a904-7a104907bfdc",
   "metadata": {},
   "outputs": [],
   "source": []
  }
 ],
 "metadata": {
  "kernelspec": {
   "display_name": "Python 3 (ipykernel)",
   "language": "python",
   "name": "python3"
  },
  "language_info": {
   "codemirror_mode": {
    "name": "ipython",
    "version": 3
   },
   "file_extension": ".py",
   "mimetype": "text/x-python",
   "name": "python",
   "nbconvert_exporter": "python",
   "pygments_lexer": "ipython3",
   "version": "3.12.3"
  }
 },
 "nbformat": 4,
 "nbformat_minor": 5
}
