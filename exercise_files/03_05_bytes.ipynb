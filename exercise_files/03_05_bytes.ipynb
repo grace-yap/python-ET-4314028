{
 "cells": [
  {
   "cell_type": "markdown",
   "id": "fcb242f6",
   "metadata": {},
   "source": [
    "### Bytes"
   ]
  },
  {
   "cell_type": "code",
   "execution_count": 1,
   "id": "3c3ee6d8",
   "metadata": {},
   "outputs": [
    {
     "data": {
      "text/plain": [
       "b'\\x00\\x00\\x00\\x00'"
      ]
     },
     "execution_count": 1,
     "metadata": {},
     "output_type": "execute_result"
    }
   ],
   "source": [
    "### Byte objects are a sequence of ddta.\n",
    "### Byte Object Common Uses\n",
    "### - Streaming files\n",
    "### - Transmitting text without knowing the encoding\n",
    "### - Often used \"under the hood\" in Python libraries\n",
    "\n",
    "# create an EMPTY bytes object that's 4 bytes long\n",
    "# each byte is represented by a \\x followed by 2 hexadecmial or base 16 numbers (\\x00)\n",
    "# 2 hexadecimal numbers is 256 possibilities, which is the same as 2^8 or 8 bits, and there are 8 bits to a byte\n",
    "# the b at the start is used to differentiate a byte from a string\n",
    "# result syntax:\n",
    "# b'x\\00...'\n",
    "bytes(4)"
   ]
  },
  {
   "cell_type": "code",
   "execution_count": 2,
   "id": "ee4884d2-ec6d-4cb9-ba3e-9b8c2ceb1bdc",
   "metadata": {},
   "outputs": [
    {
     "data": {
      "text/plain": [
       "b'\\xf0\\x9f\\x99\\x84'"
      ]
     },
     "execution_count": 2,
     "metadata": {},
     "output_type": "execute_result"
    }
   ],
   "source": [
    "# create bytes object with actual data in it\n",
    "# syntax:\n",
    "# bytes('<data>','<type of the data you're trying to encode (e.g., utf-8 for emojis>) so it knows how to find and isolate the data')\n",
    "smileyBytes = bytes('🙄', 'utf-8')\n",
    "smileyBytes"
   ]
  },
  {
   "cell_type": "code",
   "execution_count": 3,
   "id": "a18b1572",
   "metadata": {},
   "outputs": [
    {
     "data": {
      "text/plain": [
       "'🙄'"
      ]
     },
     "execution_count": 3,
     "metadata": {},
     "output_type": "execute_result"
    }
   ],
   "source": [
    "# decode() function - represent a bytes object as a string\n",
    "# syntax:\n",
    "# object.decode('<format>')\n",
    "smileyBytes.decode('utf-8')"
   ]
  },
  {
   "cell_type": "code",
   "execution_count": 4,
   "id": "48a506cd",
   "metadata": {},
   "outputs": [],
   "source": [
    "# bytes objects are IMMUTABLE like tuples\n",
    "# bytearray - bytes that you can modify\n",
    "\n",
    "smileyBytes = bytearray('🙄', 'utf-8')"
   ]
  },
  {
   "cell_type": "code",
   "execution_count": 5,
   "id": "5e920566",
   "metadata": {},
   "outputs": [
    {
     "data": {
      "text/plain": [
       "bytearray(b'\\xf0\\x9f\\x99\\x84')"
      ]
     },
     "execution_count": 5,
     "metadata": {},
     "output_type": "execute_result"
    }
   ],
   "source": [
    "smileyBytes"
   ]
  },
  {
   "cell_type": "code",
   "execution_count": 12,
   "id": "6f5cb2b0",
   "metadata": {},
   "outputs": [],
   "source": [
    "# you can treat the bytearray object like a string, including modifying a specific byte value using the string slice notation\n",
    "# index 3 of smileyBytes is \\x84\n",
    "# to get hexadecimal 85, use the int library\n",
    "smileyBytes[3] = int('85', 16)"
   ]
  },
  {
   "cell_type": "code",
   "execution_count": 13,
   "id": "8b5cd28d",
   "metadata": {},
   "outputs": [
    {
     "data": {
      "text/plain": [
       "'🙅'"
      ]
     },
     "execution_count": 13,
     "metadata": {},
     "output_type": "execute_result"
    }
   ],
   "source": [
    "# and then decode to see what emoji you get after changing the value\n",
    "smileyBytes.decode('utf-8')"
   ]
  },
  {
   "cell_type": "code",
   "execution_count": null,
   "id": "fd1a7b83",
   "metadata": {},
   "outputs": [],
   "source": []
  }
 ],
 "metadata": {
  "kernelspec": {
   "display_name": "Python 3 (ipykernel)",
   "language": "python",
   "name": "python3"
  },
  "language_info": {
   "codemirror_mode": {
    "name": "ipython",
    "version": 3
   },
   "file_extension": ".py",
   "mimetype": "text/x-python",
   "name": "python",
   "nbconvert_exporter": "python",
   "pygments_lexer": "ipython3",
   "version": "3.12.3"
  }
 },
 "nbformat": 4,
 "nbformat_minor": 5
}
