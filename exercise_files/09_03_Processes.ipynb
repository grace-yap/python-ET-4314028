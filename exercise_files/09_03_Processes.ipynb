{
 "cells": [
  {
   "cell_type": "code",
   "execution_count": null,
   "id": "a1f6408a-85a2-410d-8b6e-72aec120deb5",
   "metadata": {},
   "outputs": [],
   "source": [
    "# multiprocessing module - official module from Python\n",
    "# - on some operating systems, you can't use this to spin up a new process that runs the function if that function is defined in the same file,\n",
    "#   as opposed to imported at the top like in the cell below (import myFunction)\n",
    "# - it's going to be difficult for example purposes where we want to define and run functions in the same jupyter notebook\n",
    "from multiprocessing import Process"
   ]
  },
  {
   "cell_type": "code",
   "execution_count": null,
   "id": "d248b446-2c30-4f09-a57c-fd747b9f5c16",
   "metadata": {},
   "outputs": [],
   "source": [
    "import myFunction"
   ]
  },
  {
   "cell_type": "code",
   "execution_count": 1,
   "id": "34fcf0b8",
   "metadata": {},
   "outputs": [],
   "source": [
    "# multiprocess module - third-party module that solves the bug in multiprocessing module\n",
    "# - you can install it using \"pip install multiprocess\"\n",
    "# - has all of the same functions and is used exactly the same as multiprocessing module,\n",
    "#   but it doesn't have have this bug with pickiness about where the function is defined\n",
    "from multiprocess import Process\n",
    "import time\n",
    "import threading"
   ]
  },
  {
   "cell_type": "markdown",
   "id": "b9bc0c6f",
   "metadata": {},
   "source": [
    "## Processes"
   ]
  },
  {
   "cell_type": "code",
   "execution_count": 16,
   "id": "523759f6-17ae-43b9-acb9-4c4c0dd3f80a",
   "metadata": {},
   "outputs": [
    {
     "name": "stdout",
     "output_type": "stream",
     "text": [
      "{}\n"
     ]
    }
   ],
   "source": [
    "# multiprocess is very similar to threading\n",
    "def longSquare(num, results):\n",
    "    time.sleep(1)\n",
    "    results[num] = num**2\n",
    "\n",
    "results = {}\n",
    "p1 = Process(target=longSquare, args=(1,results))\n",
    "p2 = Process(target=longSquare, args=(2,results))\n",
    "\n",
    "p1.start()\n",
    "p2.start()\n",
    "\n",
    "p1.join()\n",
    "p2.join()\n",
    "\n",
    "print(results)\n",
    "# there are no results\n",
    "# processes don't share memory\n",
    "# they get a copy of this dictionary in their own separate memory space, and we have no way of accessing it\n",
    "#     except if they record it somewhere like a file system or a database"
   ]
  },
  {
   "cell_type": "code",
   "execution_count": 2,
   "id": "2ddce8ce-69e0-487b-83e6-94aae156a8df",
   "metadata": {},
   "outputs": [
    {
     "name": "stdout",
     "output_type": "stream",
     "text": [
      "{}\n"
     ]
    }
   ],
   "source": [
    "# one thing we can do is to print the computed value from within the function itself\n",
    "def longSquare(num, results):\n",
    "    time.sleep(1)\n",
    "    # rather than returning it or saving it in results, we just print it\n",
    "    print(num**2)\n",
    "\n",
    "results = {}\n",
    "p1 = Process(target=longSquare, args=(1,results))\n",
    "p2 = Process(target=longSquare, args=(2,results))\n",
    "\n",
    "p1.start()\n",
    "p2.start()\n",
    "\n",
    "p1.join()\n",
    "p2.join()\n",
    "\n",
    "print(results)\n",
    "\n",
    "# results should be:\n",
    "# 14\n",
    "#\n",
    "# {}\n",
    "# but it printed them right next to each other. it's not 14, it's a 1 and a 4"
   ]
  },
  {
   "cell_type": "code",
   "execution_count": 3,
   "id": "1ada1bea-f1aa-44a9-97a7-9854a5f2ea89",
   "metadata": {},
   "outputs": [
    {
     "name": "stdout",
     "output_type": "stream",
     "text": [
      "{}\n"
     ]
    }
   ],
   "source": [
    "def longSquare(num, results):\n",
    "    time.sleep(1)\n",
    "    print(num**2)\n",
    "    print('Finished computing!')\n",
    "\n",
    "results = {}\n",
    "p1 = Process(target=longSquare, args=(1,results))\n",
    "p2 = Process(target=longSquare, args=(2,results))\n",
    "\n",
    "p1.start()\n",
    "p2.start()\n",
    "\n",
    "p1.join()\n",
    "p2.join()\n",
    "\n",
    "print(results)\n",
    "\n",
    "# results should be:\n",
    "# 14\n",
    "# Finished computing!\n",
    "# Finished computing!\n",
    "#\n",
    "# {}\n",
    "\n",
    "# prints 1 and 4 very quickly, and then both processes print \"Finished computing!\", and then we have this extra weird new line"
   ]
  },
  {
   "cell_type": "code",
   "execution_count": 4,
   "id": "37273e14",
   "metadata": {},
   "outputs": [
    {
     "data": {
      "text/plain": [
       "[None, None, None, None, None, None, None, None, None, None]"
      ]
     },
     "execution_count": 4,
     "metadata": {},
     "output_type": "execute_result"
    }
   ],
   "source": [
    "# 10 processes\n",
    "def longSquare(num, results):\n",
    "    time.sleep(1)\n",
    "    print(num**2)\n",
    "    print('Finished computing!')\n",
    "\n",
    "results = {}\n",
    "processes = [Process(target=longSquare, args=(n,results)) for n in range(0, 10)]\n",
    "[p.start() for p in processes]\n",
    "[p.join() for p in processes]\n",
    "\n",
    "# results should be:\n",
    "# 01\n",
    "# 4\n",
    "# 9\n",
    "# Finished computing!Finished computing!16\n",
    "# 25Finished computing!\n",
    "#\n",
    "#\n",
    "# 36Finished computing!\n",
    "# 49Finished computing!64\n",
    "#\n",
    "# 81Finished computing!\n",
    "# Finished computing!\n",
    "#\n",
    "#\n",
    "#\n",
    "#\n",
    "# Finished computing!Finished computing!\n",
    "# Finished computing!\n",
    "#\n",
    "#\n",
    "#\n",
    "# [None, None, None, None, None, None, None, None, None, None\n",
    "\n",
    "# the output starts to look a little bit... funky\n",
    "# new lines aren't where you expected them to be; there's overlap between the separate function calls"
   ]
  },
  {
   "cell_type": "code",
   "execution_count": 5,
   "id": "ee636997",
   "metadata": {},
   "outputs": [
    {
     "name": "stdout",
     "output_type": "stream",
     "text": [
      "0\n",
      "Finished computing!\n",
      "4\n",
      "Finished computing!\n",
      "25\n",
      "Finished computing!\n",
      "9\n",
      "Finished computing!\n",
      "16\n",
      "Finished computing!\n",
      "81\n",
      "Finished computing!\n",
      "64\n",
      "Finished computing!\n",
      "49\n",
      "Finished computing!\n",
      "36\n",
      "Finished computing!\n",
      "1\n",
      "Finished computing!\n",
      "{}\n"
     ]
    }
   ],
   "source": [
    "results = {}\n",
    "threads = [threading.Thread(target=longSquare, args=(n, results)) for n in range(0, 10)]\n",
    "[t.start() for t in threads]\n",
    "[t.join() for t in threads]\n",
    "print(results)\n",
    "\n",
    "# actual results should be:\n",
    "# 9163625496481\n",
    "# Finished computing!\n",
    "# 14\n",
    "#\n",
    "# Finished computing!\n",
    "#\n",
    "# Finished computing!\n",
    "# Finished computing!\n",
    "#\n",
    "#\n",
    "#\n",
    "# Finished computing!\n",
    "# Finished computing!\n",
    "# 0Finished computing!\n",
    "# Finished computing!\n",
    "#\n",
    "#\n",
    "# Finished computing!\n",
    "# Finished computing!\n",
    "#\n",
    "# {}"
   ]
  },
  {
   "cell_type": "code",
   "execution_count": null,
   "id": "129b1aa4",
   "metadata": {},
   "outputs": [],
   "source": [
    "# what's going on with the results?\n",
    "# we usually talk about threads and processes as computing things in parallel\n",
    "# and with processes, that's true.\n",
    "# modern computers have multiple processors, and you're literally asking for multiple processors to process your tasks in parallel\n",
    "# however with threads, what's happening is that the same processor will execute a statement from thread A, thread B, thread C, then thread A again,\n",
    "#     and it basically picks them up in a round robin fashion. it will go to work on a different thread if one of them is hanging around waiting\n",
    "#     for something for whatever reason like time.sleep()\n",
    "\n",
    "### Threading\n",
    "### - Emulates parallel computing\n",
    "### - Useful when your programs have periods of downtime"
   ]
  }
 ],
 "metadata": {
  "kernelspec": {
   "display_name": "Python 3 (ipykernel)",
   "language": "python",
   "name": "python3"
  },
  "language_info": {
   "codemirror_mode": {
    "name": "ipython",
    "version": 3
   },
   "file_extension": ".py",
   "mimetype": "text/x-python",
   "name": "python",
   "nbconvert_exporter": "python",
   "pygments_lexer": "ipython3",
   "version": "3.12.3"
  }
 },
 "nbformat": 4,
 "nbformat_minor": 5
}
