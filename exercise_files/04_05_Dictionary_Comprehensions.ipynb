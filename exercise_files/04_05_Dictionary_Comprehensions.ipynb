{
 "cells": [
  {
   "cell_type": "markdown",
   "id": "f76cf3b1",
   "metadata": {},
   "source": [
    "## Dictionary Comprehensions"
   ]
  },
  {
   "cell_type": "code",
   "execution_count": 1,
   "id": "92d3299d",
   "metadata": {},
   "outputs": [
    {
     "data": {
      "text/plain": [
       "{'a': 'aardvark', 'b': 'bear', 'c': 'cat', 'd': 'dog'}"
      ]
     },
     "execution_count": 1,
     "metadata": {},
     "output_type": "execute_result"
    }
   ],
   "source": [
    "### Dictionary Comprehensions\n",
    "### - Generate dictionaries from iterable structures\n",
    "### - Very similar to list comprehensions\n",
    "\n",
    "# a dictionary comprehension creates a new dictionary\n",
    "\n",
    "# list of tuples that will be used as key-value pairs for the dictionary\n",
    "animalList = [('a', 'aardvark'), ('b', 'bear'), ('c', 'cat'), ('d', 'dog')]\n",
    "# syntax:\n",
    "# dictionary_variable = {variable[index]: variable[index+1] for variable in list_variable}\n",
    "# where variable[index]: variable[index+1] ==> definition of key and value separated by a colon VS single value in list comprehension\n",
    "animals = {item[0]: item[1] for item in animalList}\n",
    "animals"
   ]
  },
  {
   "cell_type": "code",
   "execution_count": 4,
   "id": "68206d1c",
   "metadata": {},
   "outputs": [
    {
     "data": {
      "text/plain": [
       "{'a': 'aardvark', 'b': 'bear', 'c': 'cat', 'd': 'dog'}"
      ]
     },
     "execution_count": 4,
     "metadata": {},
     "output_type": "execute_result"
    }
   ],
   "source": [
    "# MORE ELEGANT WAY to write dictionary comprehension\n",
    "\n",
    "# syntax:\n",
    "# dictionary_variable = {key_variable: value_variable for key_variable, value_variable in list_variable}\n",
    "# whatever is between for and in (i.e., key, value) in the statement below, is what each tuple in the animalList is getting assigned to\n",
    "# REMEMBER: Python allows you to unpack values into multiple variables as long as the number of variables you're assigning the values to\n",
    "#           matches the elements in the data structure\n",
    "# so in the statement below, there are 2 items in each tuple, and we're unpacking them into 2 key-value variables ==> cleaner code\n",
    "animals = {key: value for key, value in animalList}\n",
    "animals"
   ]
  },
  {
   "cell_type": "code",
   "execution_count": 2,
   "id": "30216ad8-a5bc-446b-8f3d-81ace21d8da4",
   "metadata": {},
   "outputs": [
    {
     "ename": "ValueError",
     "evalue": "not enough values to unpack (expected 3, got 2)",
     "output_type": "error",
     "traceback": [
      "\u001b[1;31m---------------------------------------------------------------------------\u001b[0m",
      "\u001b[1;31mValueError\u001b[0m                                Traceback (most recent call last)",
      "Cell \u001b[1;32mIn[2], line 1\u001b[0m\n\u001b[1;32m----> 1\u001b[0m animals \u001b[38;5;241m=\u001b[39m {key: value \u001b[38;5;28;01mfor\u001b[39;00m key, value, thirdItem \u001b[38;5;129;01min\u001b[39;00m animalList}\n\u001b[0;32m      2\u001b[0m animals\n",
      "\u001b[1;31mValueError\u001b[0m: not enough values to unpack (expected 3, got 2)"
     ]
    }
   ],
   "source": [
    "# otherwise, you will get an error\n",
    "animals = {key: value for key, value, thirdItem in animalList}\n",
    "animals"
   ]
  },
  {
   "cell_type": "code",
   "execution_count": 5,
   "id": "96bdf466",
   "metadata": {},
   "outputs": [
    {
     "data": {
      "text/plain": [
       "dict_items([('a', 'aardvark'), ('b', 'bear'), ('c', 'cat'), ('d', 'dog')])"
      ]
     },
     "execution_count": 5,
     "metadata": {},
     "output_type": "execute_result"
    }
   ],
   "source": [
    "# items() function - similar to keys (dict_keys) and values (dict_value)\n",
    "# - returns a dict_items() object containing a list of key-value item pairs\n",
    "animals.items()"
   ]
  },
  {
   "cell_type": "code",
   "execution_count": 6,
   "id": "467b6984",
   "metadata": {},
   "outputs": [
    {
     "data": {
      "text/plain": [
       "[('a', 'aardvark'), ('b', 'bear'), ('c', 'cat'), ('d', 'dog')]"
      ]
     },
     "execution_count": 6,
     "metadata": {},
     "output_type": "execute_result"
    }
   ],
   "source": [
    "# turn dictionary back into a list\n",
    "list(animals.items())"
   ]
  },
  {
   "cell_type": "code",
   "execution_count": 7,
   "id": "f5a8b568-dc89-41d4-8052-6dc609556b41",
   "metadata": {},
   "outputs": [
    {
     "data": {
      "text/plain": [
       "list"
      ]
     },
     "execution_count": 7,
     "metadata": {},
     "output_type": "execute_result"
    }
   ],
   "source": [
    "type(list(animals.items()))"
   ]
  },
  {
   "cell_type": "code",
   "execution_count": 8,
   "id": "1320951d-b2dd-4d2c-99c1-66663c082053",
   "metadata": {},
   "outputs": [
    {
     "data": {
      "text/plain": [
       "[dict_items([('a', 'aardvark'), ('b', 'bear'), ('c', 'cat'), ('d', 'dog')])]"
      ]
     },
     "execution_count": 8,
     "metadata": {},
     "output_type": "execute_result"
    }
   ],
   "source": [
    "[animals.items()]"
   ]
  },
  {
   "cell_type": "code",
   "execution_count": 7,
   "id": "494fe288",
   "metadata": {},
   "outputs": [
    {
     "data": {
      "text/plain": [
       "[{'letter': 'a', 'name': 'aardvark'},\n",
       " {'letter': 'b', 'name': 'bear'},\n",
       " {'letter': 'c', 'name': 'cat'},\n",
       " {'letter': 'd', 'name': 'dog'}]"
      ]
     },
     "execution_count": 7,
     "metadata": {},
     "output_type": "execute_result"
    }
   ],
   "source": [
    "# use list comprehension after turning dictionary to list\n",
    "# returns a list of dictionary objects with the original keys and values under the 'letter' and 'name' fields in each dictionary in the list\n",
    "[{'letter': key, 'name': value} for key, value in animals.items()]"
   ]
  },
  {
   "cell_type": "code",
   "execution_count": 10,
   "id": "ed1d6346-1afd-415d-bc31-e88f56ce3763",
   "metadata": {},
   "outputs": [
    {
     "data": {
      "text/plain": [
       "list"
      ]
     },
     "execution_count": 10,
     "metadata": {},
     "output_type": "execute_result"
    }
   ],
   "source": [
    "type([{'letter': key, 'name': value} for key, value in animals.items()])"
   ]
  },
  {
   "cell_type": "code",
   "execution_count": 9,
   "id": "3766f5e9",
   "metadata": {},
   "outputs": [
    {
     "data": {
      "text/plain": [
       "[{'letter': 'a', 'name': 'aardvark'},\n",
       " {'letter': 'b', 'name': 'bear'},\n",
       " {'letter': 'c', 'name': 'cat'},\n",
       " {'letter': 'd', 'name': 'dog'}]"
      ]
     },
     "execution_count": 9,
     "metadata": {},
     "output_type": "execute_result"
    }
   ],
   "source": [
    "[{'letter': key, 'name': value} for key, value in list(animals.items())]"
   ]
  },
  {
   "cell_type": "code",
   "execution_count": 13,
   "id": "fa38ee5b-d960-4f46-8228-98b71867ca4d",
   "metadata": {},
   "outputs": [
    {
     "ename": "SyntaxError",
     "evalue": "invalid syntax (1596808845.py, line 2)",
     "output_type": "error",
     "traceback": [
      "\u001b[1;36m  Cell \u001b[1;32mIn[13], line 2\u001b[1;36m\u001b[0m\n\u001b[1;33m    [('letter': key, 'name': value) for key, value in animals.items()]\u001b[0m\n\u001b[1;37m              ^\u001b[0m\n\u001b[1;31mSyntaxError\u001b[0m\u001b[1;31m:\u001b[0m invalid syntax\n"
     ]
    }
   ],
   "source": [
    "# need to use {} for key_variable and value_variable\n",
    "[('letter': key, 'name': value) for key, value in animals.items()]"
   ]
  },
  {
   "cell_type": "code",
   "execution_count": 14,
   "id": "8b6f5dc7-80a2-4b87-a1bc-d2dde9398c7d",
   "metadata": {},
   "outputs": [
    {
     "ename": "TypeError",
     "evalue": "unhashable type: 'dict'",
     "output_type": "error",
     "traceback": [
      "\u001b[1;31m---------------------------------------------------------------------------\u001b[0m",
      "\u001b[1;31mTypeError\u001b[0m                                 Traceback (most recent call last)",
      "Cell \u001b[1;32mIn[14], line 1\u001b[0m\n\u001b[1;32m----> 1\u001b[0m {{\u001b[38;5;124m'\u001b[39m\u001b[38;5;124mletter\u001b[39m\u001b[38;5;124m'\u001b[39m: key, \u001b[38;5;124m'\u001b[39m\u001b[38;5;124mname\u001b[39m\u001b[38;5;124m'\u001b[39m: value} \u001b[38;5;28;01mfor\u001b[39;00m key, value \u001b[38;5;129;01min\u001b[39;00m animals\u001b[38;5;241m.\u001b[39mitems()}\n",
      "\u001b[1;31mTypeError\u001b[0m: unhashable type: 'dict'"
     ]
    }
   ],
   "source": [
    "# need to use [] for list\n",
    "{{'letter': key, 'name': value} for key, value in animals.items()}"
   ]
  },
  {
   "cell_type": "code",
   "execution_count": 11,
   "id": "0381fd31-986b-49e9-a252-43fe27d9ab06",
   "metadata": {},
   "outputs": [
    {
     "data": {
      "text/plain": [
       "list"
      ]
     },
     "execution_count": 11,
     "metadata": {},
     "output_type": "execute_result"
    }
   ],
   "source": [
    "type([{'letter': key, 'name': value} for key, value in list(animals.items())])"
   ]
  },
  {
   "cell_type": "code",
   "execution_count": null,
   "id": "1093f9b6-b1e3-498f-abcb-cefde6cd62ed",
   "metadata": {},
   "outputs": [],
   "source": []
  }
 ],
 "metadata": {
  "kernelspec": {
   "display_name": "Python 3 (ipykernel)",
   "language": "python",
   "name": "python3"
  },
  "language_info": {
   "codemirror_mode": {
    "name": "ipython",
    "version": 3
   },
   "file_extension": ".py",
   "mimetype": "text/x-python",
   "name": "python",
   "nbconvert_exporter": "python",
   "pygments_lexer": "ipython3",
   "version": "3.12.3"
  }
 },
 "nbformat": 4,
 "nbformat_minor": 5
}
