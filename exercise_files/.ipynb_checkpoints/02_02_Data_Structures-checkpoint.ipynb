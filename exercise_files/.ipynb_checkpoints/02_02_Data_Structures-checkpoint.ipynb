{
 "cells": [
  {
   "cell_type": "markdown",
   "id": "2d0359bf",
   "metadata": {},
   "source": [
    "# Data Structures"
   ]
  },
  {
   "cell_type": "markdown",
   "id": "cc61a7fd",
   "metadata": {},
   "source": [
    "## Lists"
   ]
  },
  {
   "cell_type": "code",
   "execution_count": 1,
   "id": "124dfa4d",
   "metadata": {},
   "outputs": [
    {
     "name": "stdout",
     "output_type": "stream",
     "text": [
      "[1, 2, 3, 4]\n"
     ]
    }
   ],
   "source": [
    "# empty list\n",
    "emptylist = []\n",
    "\n",
    "# use [] for lists\n",
    "my_list = [1,2,3,4]\n",
    "print(my_list)"
   ]
  },
  {
   "cell_type": "code",
   "execution_count": 3,
   "id": "343cab68",
   "metadata": {},
   "outputs": [],
   "source": [
    "my_list = ['list', 'of', 'strings']"
   ]
  },
  {
   "cell_type": "code",
   "execution_count": 4,
   "id": "31dd5ace",
   "metadata": {},
   "outputs": [],
   "source": [
    "# you can have mixed value types inside a list\n",
    "my_list = [1,'list', False, []]"
   ]
  },
  {
   "cell_type": "code",
   "execution_count": 5,
   "id": "341e6193",
   "metadata": {},
   "outputs": [],
   "source": [
    "# you can have a list of lists\n",
    "my_list = [[1,2,3],[False, True], []]"
   ]
  },
  {
   "cell_type": "code",
   "execution_count": 6,
   "id": "71054a67",
   "metadata": {},
   "outputs": [
    {
     "data": {
      "text/plain": [
       "3"
      ]
     },
     "execution_count": 6,
     "metadata": {},
     "output_type": "execute_result"
    }
   ],
   "source": [
    "# len function - number of elements inside a list\n",
    "len(my_list)"
   ]
  },
  {
   "cell_type": "markdown",
   "id": "fe9bdfd8",
   "metadata": {},
   "source": [
    "## Sets"
   ]
  },
  {
   "cell_type": "code",
   "execution_count": 8,
   "id": "2cd42f05",
   "metadata": {},
   "outputs": [
    {
     "name": "stdout",
     "output_type": "stream",
     "text": [
      "{1, 2, 3, 4, 5}\n"
     ]
    }
   ],
   "source": [
    "# in sets, ALL of the elements MUST be unique\n",
    "# use {} for sets\n",
    "my_set = {1,2,3,4,5}\n",
    "print(my_set)"
   ]
  },
  {
   "cell_type": "code",
   "execution_count": 9,
   "id": "ce2034e0",
   "metadata": {},
   "outputs": [
    {
     "data": {
      "text/plain": [
       "set"
      ]
     },
     "execution_count": 9,
     "metadata": {},
     "output_type": "execute_result"
    }
   ],
   "source": [
    "type(my_set)"
   ]
  },
  {
   "cell_type": "code",
   "execution_count": 10,
   "id": "c40a0c41",
   "metadata": {},
   "outputs": [
    {
     "data": {
      "text/plain": [
       "5"
      ]
     },
     "execution_count": 10,
     "metadata": {},
     "output_type": "execute_result"
    }
   ],
   "source": [
    "len(my_set)"
   ]
  },
  {
   "cell_type": "code",
   "execution_count": 7,
   "id": "4dacc8e7",
   "metadata": {},
   "outputs": [
    {
     "name": "stdout",
     "output_type": "stream",
     "text": [
      "{1, 2}\n"
     ]
    }
   ],
   "source": [
    "# when you add redundant elements to a set, it only takes in the unique elements\n",
    "my_set = {1,1,2,2}\n",
    "len(my_set)\n",
    "print(my_set)"
   ]
  },
  {
   "cell_type": "code",
   "execution_count": 2,
   "id": "04796b0e",
   "metadata": {},
   "outputs": [
    {
     "data": {
      "text/plain": [
       "False"
      ]
     },
     "execution_count": 2,
     "metadata": {},
     "output_type": "execute_result"
    }
   ],
   "source": [
    "# the ORDER of elements in a LIST is VERY IMPORTANT\n",
    "[1,2] == [2,1]"
   ]
  },
  {
   "cell_type": "code",
   "execution_count": 4,
   "id": "d91e5f50-4cad-4bab-99cd-4b2c391f5b17",
   "metadata": {},
   "outputs": [
    {
     "data": {
      "text/plain": [
       "True"
      ]
     },
     "execution_count": 4,
     "metadata": {},
     "output_type": "execute_result"
    }
   ],
   "source": [
    "# the ORDER of elements in a set is does NOT matter\n",
    "{1,2} == {2,1}"
   ]
  },
  {
   "cell_type": "code",
   "execution_count": 17,
   "id": "542b7600",
   "metadata": {},
   "outputs": [
    {
     "data": {
      "text/plain": [
       "True"
      ]
     },
     "execution_count": 17,
     "metadata": {},
     "output_type": "execute_result"
    }
   ],
   "source": [
    "{1,2,3} == {3,2,1,1,1}"
   ]
  },
  {
   "cell_type": "markdown",
   "id": "2d54cd5f",
   "metadata": {},
   "source": [
    "## Tuples"
   ]
  },
  {
   "cell_type": "code",
   "execution_count": 19,
   "id": "f8d946cf",
   "metadata": {},
   "outputs": [],
   "source": [
    "# use () for tuples\n",
    "my_tuple = (1,2,3)"
   ]
  },
  {
   "cell_type": "code",
   "execution_count": 20,
   "id": "2b1218e0",
   "metadata": {},
   "outputs": [
    {
     "data": {
      "text/plain": [
       "3"
      ]
     },
     "execution_count": 20,
     "metadata": {},
     "output_type": "execute_result"
    }
   ],
   "source": [
    "len(my_tuple)"
   ]
  },
  {
   "cell_type": "code",
   "execution_count": 21,
   "id": "0b11e898",
   "metadata": {},
   "outputs": [
    {
     "data": {
      "text/plain": [
       "False"
      ]
     },
     "execution_count": 21,
     "metadata": {},
     "output_type": "execute_result"
    }
   ],
   "source": [
    "# the ORDER of elements in a TUPLE is VERY IMPORTANT\n",
    "(1,2) == (2,1)"
   ]
  },
  {
   "cell_type": "code",
   "execution_count": 24,
   "id": "f4f0164e",
   "metadata": {},
   "outputs": [
    {
     "name": "stdout",
     "output_type": "stream",
     "text": [
      "[[1, 2, 3], [False, True], [], 4, 4, 6]\n"
     ]
    }
   ],
   "source": [
    "# you can APPEND additional elements in a LIST\n",
    "my_list.append(6)\n",
    "print(my_list)"
   ]
  },
  {
   "cell_type": "code",
   "execution_count": 25,
   "id": "3fc754a7",
   "metadata": {},
   "outputs": [
    {
     "ename": "AttributeError",
     "evalue": "'tuple' object has no attribute 'append'",
     "output_type": "error",
     "traceback": [
      "\u001b[0;31m---------------------------------------------------------------------------\u001b[0m",
      "\u001b[0;31mAttributeError\u001b[0m                            Traceback (most recent call last)",
      "Input \u001b[0;32mIn [25]\u001b[0m, in \u001b[0;36m<module>\u001b[0;34m\u001b[0m\n\u001b[0;32m----> 1\u001b[0m \u001b[43mmy_tuple\u001b[49m\u001b[38;5;241;43m.\u001b[39;49m\u001b[43mappend\u001b[49m(\u001b[38;5;241m4\u001b[39m)\n",
      "\u001b[0;31mAttributeError\u001b[0m: 'tuple' object has no attribute 'append'"
     ]
    }
   ],
   "source": [
    "# you CANNOT APPEND additional elements in a TUPLE\n",
    "# you CANNOT MODIFY tuples\n",
    "my_tuple.append(4)\n",
    "\n",
    "### Once a tuple is declared, you can't add to it or change any of the values in it.\n",
    "### Why use tuples?\n",
    "### - They're memory efficient.\n",
    "###   => If the computer knows you can potentially add things to a list, that list is going to increase in size.\n",
    "###   => So Python will try and pre-allocate a larger chunk of memory for that list than it needs for the moment.\n",
    "###   => With tuples, Python knows that you're never going to be able to add to them, so it uses only the exact amount of memory it needs to store tuples.\n",
    "### - Good for storing lots of little things, like x,y coordinates."
   ]
  },
  {
   "cell_type": "markdown",
   "id": "491e40c6",
   "metadata": {},
   "source": [
    "## Dictionaries"
   ]
  },
  {
   "cell_type": "code",
   "execution_count": 26,
   "id": "07eacb6d",
   "metadata": {},
   "outputs": [],
   "source": [
    "# syntax: dictionary_variable = {\n",
    "#     'key1': 'value1'\n",
    "#     'key2': 'value2'\n",
    "# }\n",
    "\n",
    "my_dictionary = {\n",
    "    'apple': 'A red fruit', \n",
    "    'bear': 'A scary animal'\n",
    "}"
   ]
  },
  {
   "cell_type": "code",
   "execution_count": 27,
   "id": "e62a0f43",
   "metadata": {},
   "outputs": [
    {
     "data": {
      "text/plain": [
       "'A red fruit'"
      ]
     },
     "execution_count": 27,
     "metadata": {},
     "output_type": "execute_result"
    }
   ],
   "source": [
    "# syntax: dictionary_variable['key']\n",
    "my_dictionary['apple']"
   ]
  },
  {
   "cell_type": "code",
   "execution_count": 28,
   "id": "40a2a490",
   "metadata": {},
   "outputs": [],
   "source": [
    "# the KEYS in a dictionary MUST BE UNIQUE\n",
    "\n",
    "my_dictionary = {\n",
    "    'apple': 'A red fruit', \n",
    "    'bear': 'A scary animal',\n",
    "    'apple': 'Sometimes a green fruit'\n",
    "}"
   ]
  },
  {
   "cell_type": "code",
   "execution_count": 29,
   "id": "97ccc4aa",
   "metadata": {},
   "outputs": [
    {
     "data": {
      "text/plain": [
       "'Sometimes a green fruit'"
      ]
     },
     "execution_count": 29,
     "metadata": {},
     "output_type": "execute_result"
    }
   ],
   "source": [
    "my_dictionary['apple']"
   ]
  },
  {
   "cell_type": "code",
   "execution_count": null,
   "id": "cb8ac863",
   "metadata": {},
   "outputs": [],
   "source": [
    "### Sets and Dictionaries\n",
    "### - Both are defined with curly brackets\n",
    "### - Sets have unique values; dictionaries have unique keys.\n",
    "### - The order doesn't matter."
   ]
  }
 ],
 "metadata": {
  "kernelspec": {
   "display_name": "Python 3 (ipykernel)",
   "language": "python",
   "name": "python3"
  },
  "language_info": {
   "codemirror_mode": {
    "name": "ipython",
    "version": 3
   },
   "file_extension": ".py",
   "mimetype": "text/x-python",
   "name": "python",
   "nbconvert_exporter": "python",
   "pygments_lexer": "ipython3",
   "version": "3.11.4"
  }
 },
 "nbformat": 4,
 "nbformat_minor": 5
}
