{
 "cells": [
  {
   "cell_type": "markdown",
   "id": "7e7cecd6",
   "metadata": {},
   "source": [
    "## Classes"
   ]
  },
  {
   "cell_type": "code",
   "execution_count": 6,
   "id": "d5cde69b",
   "metadata": {},
   "outputs": [],
   "source": [
    "# A Python class is a great way to keep related collected of functions and attributes labeled and organized.\n",
    "# python class MUST start with an UPPERCASE letter\n",
    "# Terms:\n",
    "# 1. object - class instance\n",
    "# 2. attributes (attributes of the objects) - variables inside the class\n",
    "# 3. methods (or class methods) - functions inside a class\n",
    "\n",
    "# syntax:\n",
    "# class class_name:\n",
    "#     <class definition (all the functions and attributes of the class)>\n",
    "#     def __init__(self):\n",
    "#         self.attribute1 = value1\n",
    "#         self.attribute2 = value2\n",
    "#     *** init (initialization) is a special Python function\n",
    "#     *** init is called whenever an instance of the class is created.\n",
    "#     *** self is the variable that is the specific instance of the class after it was initialized.\n",
    "#\n",
    "#     def class1(argument)\n",
    "#         <method definition>\n",
    "#\n",
    "#     def class2(argument)\n",
    "#         <method definition>\n",
    "\n",
    "class Dog:\n",
    "    def __init__(self, name):\n",
    "        self.name = name\n",
    "        self.legs = 4\n",
    "\n",
    "    # self variable is passed to the speak function\n",
    "    # This means you have access to any attributes or functions in this class. (Probably because of init function at the start of the class)\n",
    "    def speak(self):\n",
    "        print(self.name + ' says: Bark!')"
   ]
  },
  {
   "cell_type": "code",
   "execution_count": 7,
   "id": "5b3dde35",
   "metadata": {},
   "outputs": [],
   "source": [
    "# It's IMPORTANT to adhere to the Pyton convention of keeping variables and function names lowercase and only class names are capitalized.\n",
    "# So you can tell the difference between the two.\n",
    "# For example, you know that Dog is a class, not a function.\n",
    "# And you know that speak() in my_dog.speak() in cell 8 is a function, not a class.\n",
    "\n",
    "# my_dog is equal to a newly created instance of the class Dog\n",
    "# When we do this, the initialization function gets called, and we get an instance of the our Dog class returned.\n",
    "my_dog = Dog('Rover')\n",
    "another_dog = Dog('Fluffy')"
   ]
  },
  {
   "cell_type": "code",
   "execution_count": 8,
   "id": "ceed1af6",
   "metadata": {},
   "outputs": [
    {
     "name": "stdout",
     "output_type": "stream",
     "text": [
      "Rover says: Bark!\n"
     ]
    }
   ],
   "source": [
    "# When you call the speak() function, it looks like it doesn't have any arguments. There's nothing being passed in these parentheses.\n",
    "# But if you look at the function definition in the class, it has one argument -- self.\n",
    "# The way Python works, if you have a class instance and you use the dot function syntax,\n",
    "#    it acts like your instance was actually passed in as the first variable of this function.\n",
    "# So the self variable in def speak(self) is literally the instance of the class that the function was called on.\n",
    "# So in my_dog = Dog('Rover'), my_dog is the instance of the class\n",
    "#    and in my_dog.speak(), my_dog is passed as the first variable to speak() function. \n",
    "my_dog.speak()"
   ]
  },
  {
   "cell_type": "code",
   "execution_count": 9,
   "id": "b85ea67b",
   "metadata": {},
   "outputs": [
    {
     "name": "stdout",
     "output_type": "stream",
     "text": [
      "Fluffy says: Bark!\n"
     ]
    }
   ],
   "source": [
    "another_dog.speak()"
   ]
  },
  {
   "cell_type": "code",
   "execution_count": null,
   "id": "5d1838eb",
   "metadata": {},
   "outputs": [],
   "source": []
  }
 ],
 "metadata": {
  "kernelspec": {
   "display_name": "Python 3 (ipykernel)",
   "language": "python",
   "name": "python3"
  },
  "language_info": {
   "codemirror_mode": {
    "name": "ipython",
    "version": 3
   },
   "file_extension": ".py",
   "mimetype": "text/x-python",
   "name": "python",
   "nbconvert_exporter": "python",
   "pygments_lexer": "ipython3",
   "version": "3.11.4"
  }
 },
 "nbformat": 4,
 "nbformat_minor": 5
}
