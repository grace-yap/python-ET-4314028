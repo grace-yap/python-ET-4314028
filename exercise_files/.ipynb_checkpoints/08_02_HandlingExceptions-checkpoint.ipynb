{
 "cells": [
  {
   "cell_type": "code",
   "execution_count": 13,
   "id": "91c52d9a",
   "metadata": {},
   "outputs": [],
   "source": [
    "import time"
   ]
  },
  {
   "cell_type": "markdown",
   "id": "c7033b12",
   "metadata": {},
   "source": [
    "## Handling Exceptions"
   ]
  },
  {
   "cell_type": "markdown",
   "id": "8a312fe4",
   "metadata": {},
   "source": [
    "### Try / Except"
   ]
  },
  {
   "cell_type": "code",
   "execution_count": 3,
   "id": "20b83b44",
   "metadata": {},
   "outputs": [
    {
     "data": {
      "text/plain": [
       "ZeroDivisionError('division by zero')"
      ]
     },
     "execution_count": 3,
     "metadata": {},
     "output_type": "execute_result"
    }
   ],
   "source": [
    "def causeError():\n",
    "    try:\n",
    "        return 1/0\n",
    "    # we are catching the exception and then just returning it\n",
    "    # we don't get a stack trace, but we do see this ZeroDivisionError instance is returned\n",
    "    except Exception as e:\n",
    "        return e\n",
    "    \n",
    "causeError()"
   ]
  },
  {
   "cell_type": "code",
   "execution_count": 4,
   "id": "df66e89a",
   "metadata": {},
   "outputs": [
    {
     "name": "stdout",
     "output_type": "stream",
     "text": [
      "There was some sort of error!\n"
     ]
    }
   ],
   "source": [
    "def causeError():\n",
    "    try:\n",
    "        return 1/0\n",
    "    # if you don't care about getting the specific instance of the exception, we just maybe want to print something\n",
    "    # remove variable e (i.e., \"as e\") and use print()\n",
    "    except Exception:\n",
    "        print('There was some sort of error!')\n",
    "    \n",
    "causeError()"
   ]
  },
  {
   "cell_type": "markdown",
   "id": "14e56369",
   "metadata": {},
   "source": [
    "### Finally"
   ]
  },
  {
   "cell_type": "code",
   "execution_count": 8,
   "id": "31791e33",
   "metadata": {},
   "outputs": [
    {
     "name": "stdout",
     "output_type": "stream",
     "text": [
      "There was some sort of error!\n",
      "This will always execute!\n"
     ]
    }
   ],
   "source": [
    "# finally statements - can be useful becaues they will ALWAYS execute no matter what happens inside the try block\n",
    "\n",
    "def causeError():\n",
    "    try:\n",
    "        return 1/0\n",
    "    except Exception:\n",
    "        print('There was some sort of error!')\n",
    "    finally:\n",
    "        print('This will always execute!')\n",
    "    \n",
    "causeError()"
   ]
  },
  {
   "cell_type": "code",
   "execution_count": 9,
   "id": "468deb76-d2eb-4f1a-92ab-4d23e48a2ffe",
   "metadata": {},
   "outputs": [
    {
     "name": "stdout",
     "output_type": "stream",
     "text": [
      "This will always execute!\n"
     ]
    },
    {
     "ename": "ZeroDivisionError",
     "evalue": "division by zero",
     "output_type": "error",
     "traceback": [
      "\u001b[1;31m---------------------------------------------------------------------------\u001b[0m",
      "\u001b[1;31mZeroDivisionError\u001b[0m                         Traceback (most recent call last)",
      "Cell \u001b[1;32mIn[9], line 8\u001b[0m\n\u001b[0;32m      4\u001b[0m     \u001b[38;5;66;03m# you don't even need any except statements\u001b[39;00m\n\u001b[0;32m      5\u001b[0m     \u001b[38;5;28;01mfinally\u001b[39;00m:\n\u001b[0;32m      6\u001b[0m         \u001b[38;5;28mprint\u001b[39m(\u001b[38;5;124m'\u001b[39m\u001b[38;5;124mThis will always execute!\u001b[39m\u001b[38;5;124m'\u001b[39m)\n\u001b[1;32m----> 8\u001b[0m \u001b[43mcauseError\u001b[49m\u001b[43m(\u001b[49m\u001b[43m)\u001b[49m\n",
      "Cell \u001b[1;32mIn[9], line 3\u001b[0m, in \u001b[0;36mcauseError\u001b[1;34m()\u001b[0m\n\u001b[0;32m      1\u001b[0m \u001b[38;5;28;01mdef\u001b[39;00m \u001b[38;5;21mcauseError\u001b[39m():\n\u001b[0;32m      2\u001b[0m     \u001b[38;5;28;01mtry\u001b[39;00m:\n\u001b[1;32m----> 3\u001b[0m         \u001b[38;5;28;01mreturn\u001b[39;00m \u001b[38;5;241;43m1\u001b[39;49m\u001b[38;5;241;43m/\u001b[39;49m\u001b[38;5;241;43m0\u001b[39;49m\n\u001b[0;32m      4\u001b[0m     \u001b[38;5;66;03m# you don't even need any except statements\u001b[39;00m\n\u001b[0;32m      5\u001b[0m     \u001b[38;5;28;01mfinally\u001b[39;00m:\n\u001b[0;32m      6\u001b[0m         \u001b[38;5;28mprint\u001b[39m(\u001b[38;5;124m'\u001b[39m\u001b[38;5;124mThis will always execute!\u001b[39m\u001b[38;5;124m'\u001b[39m)\n",
      "\u001b[1;31mZeroDivisionError\u001b[0m: division by zero"
     ]
    }
   ],
   "source": [
    "def causeError():\n",
    "    try:\n",
    "        return 1/0\n",
    "    # you don't even need any except statements\n",
    "    finally:\n",
    "        print('This will always execute!')\n",
    "\n",
    "causeError()\n",
    "\n",
    "# the error is thrown, but the print statement was still printed out"
   ]
  },
  {
   "cell_type": "code",
   "execution_count": 11,
   "id": "0a99861f-ef80-4efd-8c6b-e6d91a7b212b",
   "metadata": {},
   "outputs": [
    {
     "name": "stdout",
     "output_type": "stream",
     "text": [
      "This will always execute!\n"
     ]
    },
    {
     "data": {
      "text/plain": [
       "1.0"
      ]
     },
     "execution_count": 11,
     "metadata": {},
     "output_type": "execute_result"
    }
   ],
   "source": [
    "def causeError():\n",
    "    try:\n",
    "        # even if no exceptions are raised at all, finally still executes\n",
    "        return 1/1\n",
    "    except Exception:\n",
    "        print('There was some sort of error!')\n",
    "    finally:\n",
    "        print('This will always execute!')\n",
    "\n",
    "causeError()"
   ]
  },
  {
   "cell_type": "code",
   "execution_count": 15,
   "id": "865a6a76",
   "metadata": {},
   "outputs": [
    {
     "name": "stdout",
     "output_type": "stream",
     "text": [
      "Function took 0.5057334899902344 seconds to execute\n"
     ]
    },
    {
     "data": {
      "text/plain": [
       "1.0"
      ]
     },
     "execution_count": 15,
     "metadata": {},
     "output_type": "execute_result"
    }
   ],
   "source": [
    "# finally statement - often used to time how long a function takes to execute\n",
    "\n",
    "# import time class (cell 1)\n",
    "\n",
    "def causeError():\n",
    "    # time.time() - gives you the current time in seconds\n",
    "    start = time.time()\n",
    "    try:\n",
    "        # time.sleep() - pauses execution for some number of seconds\n",
    "        time.sleep(0.5)\n",
    "        return 1/1\n",
    "    except Exception:\n",
    "        print('There was some sort of error!')\n",
    "    finally:\n",
    "        print(f'Function took {time.time() - start} seconds to execute')\n",
    "    \n",
    "causeError()"
   ]
  },
  {
   "cell_type": "code",
   "execution_count": 16,
   "id": "4c9a51c5-6cc5-46f2-a839-cbdd27c258b7",
   "metadata": {},
   "outputs": [
    {
     "name": "stdout",
     "output_type": "stream",
     "text": [
      "There was some sort of error!\n",
      "Function took 0.5048272609710693 seconds to execute\n"
     ]
    }
   ],
   "source": [
    "def causeError():\n",
    "    start = time.time()\n",
    "    try:\n",
    "        time.sleep(0.5)\n",
    "        return 1/0\n",
    "    except Exception:\n",
    "        print('There was some sort of error!')\n",
    "    finally:\n",
    "        print(f'Function took {time.time() - start} seconds to execute')\n",
    "    \n",
    "causeError()\n",
    "\n",
    "# try-finally pattern keeps your code clean and compact,\n",
    "#     and lets you do any needed cleanup or logging after a statement completes no matter what happens inside the try block"
   ]
  },
  {
   "cell_type": "markdown",
   "id": "1debbbd8",
   "metadata": {},
   "source": [
    "### Catching Exceptions by Type"
   ]
  },
  {
   "cell_type": "code",
   "execution_count": 17,
   "id": "ce208aed-38e2-4b93-a769-3a1c1f32b839",
   "metadata": {},
   "outputs": [
    {
     "name": "stdout",
     "output_type": "stream",
     "text": [
      "There was a zero division error!\n"
     ]
    }
   ],
   "source": [
    "def causeError():\n",
    "    try:\n",
    "        return 1/0\n",
    "    # you can chain exceptions\n",
    "    except ZeroDivisionError:\n",
    "        print('There was a zero division error!')\n",
    "    # catch the Exception class\n",
    "    except Exception:\n",
    "        print('There was some sort of error!')\n",
    "\n",
    "causeError()"
   ]
  },
  {
   "cell_type": "code",
   "execution_count": 13,
   "id": "04b0686c",
   "metadata": {},
   "outputs": [
    {
     "name": "stdout",
     "output_type": "stream",
     "text": [
      "There was a type error!\n"
     ]
    }
   ],
   "source": [
    "def causeError():\n",
    "    try:\n",
    "        return 1 + 'a'\n",
    "    except TypeError:\n",
    "        print('There was a type error!')\n",
    "    except ZeroDivisionError:\n",
    "        print('There was a zero division error!')\n",
    "    except Exception:\n",
    "        print('There was some sort of error!')\n",
    "    \n",
    "causeError()"
   ]
  },
  {
   "cell_type": "code",
   "execution_count": 18,
   "id": "a07f8a7f-a503-4d54-bc80-b6571296542d",
   "metadata": {},
   "outputs": [
    {
     "name": "stdout",
     "output_type": "stream",
     "text": [
      "There was some sort of error!\n"
     ]
    }
   ],
   "source": [
    "def causeError():\n",
    "    try:\n",
    "        return 1 + 'a'\n",
    "    # the order of these except statements does matter\n",
    "    # if python matches with the first except statement, it doesn't bother with the succeeding except statements\n",
    "    # so you ALWAYS want your most general exception at the bottom\n",
    "    except Exception:\n",
    "        print('There was some sort of error!')\n",
    "    except TypeError:\n",
    "        print('There was a type error!')\n",
    "    except ZeroDivisionError:\n",
    "        print('There was a zero division error!')\n",
    "    \n",
    "causeError()"
   ]
  },
  {
   "cell_type": "code",
   "execution_count": 19,
   "id": "3a59fc27-3ed1-40d0-ac14-e3cad49d1457",
   "metadata": {},
   "outputs": [
    {
     "name": "stdout",
     "output_type": "stream",
     "text": [
      "There was a type error!\n"
     ]
    }
   ],
   "source": [
    "def causeError():\n",
    "    try:\n",
    "        return 1 + 'a'\n",
    "    except TypeError:\n",
    "        print('There was a type error!')\n",
    "    except ZeroDivisionError:\n",
    "        print('There was a zero division error!')\n",
    "    # so you ALWAYS want your most general exception at the bottom, and the more specific ones at the top\n",
    "    except Exception:\n",
    "        print('There was some sort of error!')\n",
    "    \n",
    "causeError()"
   ]
  },
  {
   "cell_type": "markdown",
   "id": "bdd13638",
   "metadata": {},
   "source": [
    "### Custom Decorators"
   ]
  },
  {
   "cell_type": "code",
   "execution_count": null,
   "id": "a96e9ef7-2d33-4e24-bec7-5c3989cf499a",
   "metadata": {},
   "outputs": [],
   "source": [
    "# sometimes, when you're doing really involved exception handling and catching\n",
    "# (e.g. HTTPS request response handling where there are a lot of different types of HTTP errors)\n",
    "# and you'll have a lot of different except statements in a row\n",
    "# in this situation, it can be really handy to move this trying and catching into a single function,\n",
    "# and you can use a custom decorator to do this"
   ]
  },
  {
   "cell_type": "code",
   "execution_count": 20,
   "id": "51be430c-98b1-4458-9fd7-b25f9a0df94c",
   "metadata": {},
   "outputs": [
    {
     "name": "stdout",
     "output_type": "stream",
     "text": [
      "There was a zero division error!\n"
     ]
    }
   ],
   "source": [
    "def handleException(func):\n",
    "    def wrapper():\n",
    "        try:\n",
    "            func()\n",
    "        except TypeError:\n",
    "            print('There was a type error!')\n",
    "        except ZeroDivisionError:\n",
    "            print('There was a zero division error!')\n",
    "        except Exception:\n",
    "            print('There was some sort of error!')\n",
    "    return wrapper\n",
    "\n",
    "@handleException\n",
    "def causeError():\n",
    "    return 1/0\n",
    "\n",
    "causeError()"
   ]
  },
  {
   "cell_type": "code",
   "execution_count": 21,
   "id": "339fce9c",
   "metadata": {},
   "outputs": [
    {
     "name": "stdout",
     "output_type": "stream",
     "text": [
      "There was a zero division error!\n"
     ]
    }
   ],
   "source": [
    "def handleException(func):\n",
    "    def wrapper(*args):\n",
    "        try:\n",
    "            func(*args)\n",
    "        except TypeError:\n",
    "            print('There was a type error!')\n",
    "        except ZeroDivisionError:\n",
    "            print('There was a zero division error!')\n",
    "        except Exception:\n",
    "            print('There was some sort of error!')\n",
    "    return wrapper\n",
    "\n",
    "@handleException\n",
    "def causeError():\n",
    "    return 1/0\n",
    "\n",
    "causeError()"
   ]
  },
  {
   "cell_type": "markdown",
   "id": "017a9545",
   "metadata": {},
   "source": [
    "### Raising Exceptions"
   ]
  },
  {
   "cell_type": "code",
   "execution_count": null,
   "id": "25354c24-4721-4516-835f-c928d294f53c",
   "metadata": {},
   "outputs": [],
   "source": [
    "@handleException\n",
    "def raiseError():\n",
    "    # raise statement - raises or throws this new Exception() that I'm creating when it's reached\n",
    "    raise Exception()\n",
    "    \n",
    "raiseError()"
   ]
  },
  {
   "cell_type": "code",
   "execution_count": 24,
   "id": "54a8798c",
   "metadata": {},
   "outputs": [
    {
     "name": "stdout",
     "output_type": "stream",
     "text": [
      "There was some sort of error!\n"
     ]
    }
   ],
   "source": [
    "# exception that accepts any input except zero\n",
    "@handleException\n",
    "def raiseError(n):\n",
    "    if n == 0:\n",
    "        raise Exception()\n",
    "    # else statement is not needed here because once the exception is raised, this execution will halt and it'll throw this exception,\n",
    "    # and then print(n) will never be reached\n",
    "    print(n)\n",
    "    \n",
    "raiseError(0)\n",
    "\n",
    "# PROBLEM: in the handleExecption() function in cell 20, raiseError(n) is getting passed in, but when you call it, there are no arguments\n",
    "#          even though raiseError(n) has an argument. so now we're trying to use this handler on a function that takes arguments.\n",
    "# SOLUTION: we need to modify handleException() using the variable *args, and we will also pass the *args to func() in try block [cell 16]"
   ]
  },
  {
   "cell_type": "code",
   "execution_count": 25,
   "id": "42d42d9f",
   "metadata": {},
   "outputs": [
    {
     "name": "stdout",
     "output_type": "stream",
     "text": [
      "1\n"
     ]
    }
   ],
   "source": [
    "@handleException\n",
    "def raiseError(n):\n",
    "    if n == 0:\n",
    "        raise Exception()\n",
    "    print(n)\n",
    "    \n",
    "raiseError(1)"
   ]
  },
  {
   "cell_type": "code",
   "execution_count": null,
   "id": "0f640b66-c8e6-47bd-80fd-06c88470634e",
   "metadata": {},
   "outputs": [],
   "source": [
    "### Writing functions to raise exceptions is powerful when you combine it with custom exceptions."
   ]
  }
 ],
 "metadata": {
  "kernelspec": {
   "display_name": "Python 3 (ipykernel)",
   "language": "python",
   "name": "python3"
  },
  "language_info": {
   "codemirror_mode": {
    "name": "ipython",
    "version": 3
   },
   "file_extension": ".py",
   "mimetype": "text/x-python",
   "name": "python",
   "nbconvert_exporter": "python",
   "pygments_lexer": "ipython3",
   "version": "3.12.3"
  }
 },
 "nbformat": 4,
 "nbformat_minor": 5
}
