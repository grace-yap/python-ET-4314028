{
 "cells": [
  {
   "cell_type": "markdown",
   "id": "ca340ac5",
   "metadata": {},
   "source": [
    "## Static and Instance Methods"
   ]
  },
  {
   "cell_type": "code",
   "execution_count": null,
   "id": "81bd0170-2beb-45e2-9e16-8001ab9f3a43",
   "metadata": {},
   "outputs": [],
   "source": [
    "class WordSet:\n",
    "    def __init__(self):\n",
    "        self.words = set()\n",
    "        \n",
    "    def addText(self, text):\n",
    "        text = self.cleanText(text)\n",
    "        for word in text.split():\n",
    "            self.words.add(word)\n",
    "\n",
    "    # cleanText has the self instance passed in, but it never actually gets used. self is a completely unused variable.\n",
    "    def cleanText(self, text):\n",
    "        # chaining functions\n",
    "        # call replace functions one right after the other\n",
    "        # you don't want to go too overboard with this, but it helps group all the punctuation replacements together\n",
    "        #     and makes it look nice in one line\n",
    "        text = text.replace('!', '').replace('.', '').replace(',', '').replace('\\'', '')\n",
    "        return text.lower()\n",
    "    \n",
    "        \n",
    "wordSet = WordSet()\n",
    "\n",
    "# use \\ to escape '\n",
    "wordSet.addText('Hi, I\\'m Ryan! Here is a sentence I want to add!')\n",
    "wordSet.addText('Here is another sentence I want to add.')\n",
    "\n",
    "print(wordSet.words)"
   ]
  },
  {
   "cell_type": "code",
   "execution_count": 3,
   "id": "5e6f57ed-c846-45ef-98e3-4efe5d310ede",
   "metadata": {},
   "outputs": [
    {
     "ename": "TypeError",
     "evalue": "WordSet.cleanText() takes 1 positional argument but 2 were given",
     "output_type": "error",
     "traceback": [
      "\u001b[1;31m---------------------------------------------------------------------------\u001b[0m",
      "\u001b[1;31mTypeError\u001b[0m                                 Traceback (most recent call last)",
      "Cell \u001b[1;32mIn[3], line 19\u001b[0m\n\u001b[0;32m     16\u001b[0m wordSet \u001b[38;5;241m=\u001b[39m WordSet()\n\u001b[0;32m     18\u001b[0m \u001b[38;5;66;03m# use \\ to escape '\u001b[39;00m\n\u001b[1;32m---> 19\u001b[0m \u001b[43mwordSet\u001b[49m\u001b[38;5;241;43m.\u001b[39;49m\u001b[43maddText\u001b[49m\u001b[43m(\u001b[49m\u001b[38;5;124;43m'\u001b[39;49m\u001b[38;5;124;43mHi, I\u001b[39;49m\u001b[38;5;130;43;01m\\'\u001b[39;49;00m\u001b[38;5;124;43mm Ryan! Here is a sentence I want to add!\u001b[39;49m\u001b[38;5;124;43m'\u001b[39;49m\u001b[43m)\u001b[49m\n\u001b[0;32m     20\u001b[0m wordSet\u001b[38;5;241m.\u001b[39maddText(\u001b[38;5;124m'\u001b[39m\u001b[38;5;124mHere is another sentence I want to add.\u001b[39m\u001b[38;5;124m'\u001b[39m)\n\u001b[0;32m     22\u001b[0m \u001b[38;5;28mprint\u001b[39m(wordSet\u001b[38;5;241m.\u001b[39mwords)\n",
      "Cell \u001b[1;32mIn[3], line 6\u001b[0m, in \u001b[0;36mWordSet.addText\u001b[1;34m(self, text)\u001b[0m\n\u001b[0;32m      5\u001b[0m \u001b[38;5;28;01mdef\u001b[39;00m \u001b[38;5;21maddText\u001b[39m(\u001b[38;5;28mself\u001b[39m, text):\n\u001b[1;32m----> 6\u001b[0m     text \u001b[38;5;241m=\u001b[39m \u001b[38;5;28;43mself\u001b[39;49m\u001b[38;5;241;43m.\u001b[39;49m\u001b[43mcleanText\u001b[49m\u001b[43m(\u001b[49m\u001b[43mtext\u001b[49m\u001b[43m)\u001b[49m\n\u001b[0;32m      7\u001b[0m     \u001b[38;5;28;01mfor\u001b[39;00m word \u001b[38;5;129;01min\u001b[39;00m text\u001b[38;5;241m.\u001b[39msplit():\n\u001b[0;32m      8\u001b[0m         \u001b[38;5;28mself\u001b[39m\u001b[38;5;241m.\u001b[39mwords\u001b[38;5;241m.\u001b[39madd(word)\n",
      "\u001b[1;31mTypeError\u001b[0m: WordSet.cleanText() takes 1 positional argument but 2 were given"
     ]
    }
   ],
   "source": [
    "class WordSet:\n",
    "    def __init__(self):\n",
    "        self.words = set()\n",
    "        \n",
    "    def addText(self, text):\n",
    "        text = self.cleanText(text)\n",
    "        for word in text.split():\n",
    "            self.words.add(word)\n",
    "\n",
    "    # if you try to remove text because you don't need it, and run the WordSet class, you'll encounter an error:\n",
    "    # because we're still passing the self instance into the method, but it only takes a single parameter now\n",
    "    def cleanText(text):\n",
    "        text = text.replace('!', '').replace('.', '').replace(',', '').replace('\\'', '')\n",
    "        return text.lower()\n",
    "    \n",
    "        \n",
    "wordSet = WordSet()\n",
    "\n",
    "# use \\ to escape '\n",
    "wordSet.addText('Hi, I\\'m Ryan! Here is a sentence I want to add!')\n",
    "wordSet.addText('Here is another sentence I want to add.')\n",
    "\n",
    "print(wordSet.words)"
   ]
  },
  {
   "cell_type": "code",
   "execution_count": 4,
   "id": "9f53775b-ac26-4cd5-890f-27be374bce51",
   "metadata": {},
   "outputs": [
    {
     "ename": "NameError",
     "evalue": "name 'cleanText' is not defined",
     "output_type": "error",
     "traceback": [
      "\u001b[1;31m---------------------------------------------------------------------------\u001b[0m",
      "\u001b[1;31mNameError\u001b[0m                                 Traceback (most recent call last)",
      "Cell \u001b[1;32mIn[4], line 21\u001b[0m\n\u001b[0;32m     18\u001b[0m wordSet \u001b[38;5;241m=\u001b[39m WordSet()\n\u001b[0;32m     20\u001b[0m \u001b[38;5;66;03m# use \\ to escape '\u001b[39;00m\n\u001b[1;32m---> 21\u001b[0m \u001b[43mwordSet\u001b[49m\u001b[38;5;241;43m.\u001b[39;49m\u001b[43maddText\u001b[49m\u001b[43m(\u001b[49m\u001b[38;5;124;43m'\u001b[39;49m\u001b[38;5;124;43mHi, I\u001b[39;49m\u001b[38;5;130;43;01m\\'\u001b[39;49;00m\u001b[38;5;124;43mm Ryan! Here is a sentence I want to add!\u001b[39;49m\u001b[38;5;124;43m'\u001b[39;49m\u001b[43m)\u001b[49m\n\u001b[0;32m     22\u001b[0m wordSet\u001b[38;5;241m.\u001b[39maddText(\u001b[38;5;124m'\u001b[39m\u001b[38;5;124mHere is another sentence I want to add.\u001b[39m\u001b[38;5;124m'\u001b[39m)\n\u001b[0;32m     24\u001b[0m \u001b[38;5;28mprint\u001b[39m(wordSet\u001b[38;5;241m.\u001b[39mwords)\n",
      "Cell \u001b[1;32mIn[4], line 7\u001b[0m, in \u001b[0;36mWordSet.addText\u001b[1;34m(self, text)\u001b[0m\n\u001b[0;32m      5\u001b[0m \u001b[38;5;28;01mdef\u001b[39;00m \u001b[38;5;21maddText\u001b[39m(\u001b[38;5;28mself\u001b[39m, text):\n\u001b[0;32m      6\u001b[0m     \u001b[38;5;66;03m# remove self from self.cleanText(text)\u001b[39;00m\n\u001b[1;32m----> 7\u001b[0m     text \u001b[38;5;241m=\u001b[39m \u001b[43mcleanText\u001b[49m(text)\n\u001b[0;32m      8\u001b[0m     \u001b[38;5;28;01mfor\u001b[39;00m word \u001b[38;5;129;01min\u001b[39;00m text\u001b[38;5;241m.\u001b[39msplit():\n\u001b[0;32m      9\u001b[0m         \u001b[38;5;28mself\u001b[39m\u001b[38;5;241m.\u001b[39mwords\u001b[38;5;241m.\u001b[39madd(word)\n",
      "\u001b[1;31mNameError\u001b[0m: name 'cleanText' is not defined"
     ]
    }
   ],
   "source": [
    "class WordSet:\n",
    "    def __init__(self):\n",
    "        self.words = set()\n",
    "        \n",
    "    def addText(self, text):\n",
    "        # so now let's remove self from self.cleanText(text), and run the class:\n",
    "        # we get another error because this now has no idea where to look for the function cleanText, so it says it's not defined\n",
    "        # it's expecting it to be defined OUTSIDE of the class, but instead, it's defined in the WordSet class\n",
    "        text = cleanText(text)\n",
    "        for word in text.split():\n",
    "            self.words.add(word)\n",
    "\n",
    "    def cleanText(text):\n",
    "        text = text.replace('!', '').replace('.', '').replace(',', '').replace('\\'', '')\n",
    "        return text.lower()\n",
    "    \n",
    "        \n",
    "wordSet = WordSet()\n",
    "\n",
    "# use \\ to escape '\n",
    "wordSet.addText('Hi, I\\'m Ryan! Here is a sentence I want to add!')\n",
    "wordSet.addText('Here is another sentence I want to add.')\n",
    "\n",
    "print(wordSet.words)"
   ]
  },
  {
   "cell_type": "code",
   "execution_count": 6,
   "id": "abae6b1e",
   "metadata": {},
   "outputs": [
    {
     "name": "stdout",
     "output_type": "stream",
     "text": [
      "{'a', 'want', 'sentence', 'im', 'to', 'i', 'here', 'add', 'ryan', 'hi', 'is', 'another'}\n"
     ]
    }
   ],
   "source": [
    "class WordSet:\n",
    "    def __init__(self):\n",
    "        self.words = set()\n",
    "\n",
    "    # instance method - methods that belong to a particular instance of the class\n",
    "    def addText(self, text):\n",
    "        # we can fix this by changing cleanText(text) to WordSet.cleanText(text)\n",
    "        text = WordSet.cleanText(text)\n",
    "        for word in text.split():\n",
    "            self.words.add(word)\n",
    "\n",
    "    # static method - by removing the self, the class instance from the parameters that get passed into this method,\n",
    "    #                 this method doesn't belong to any particular class instance\n",
    "    # - it's actually a part of the WordSet class definition itself \n",
    "    # - they are unchanging; they're not dynamic, they're static\n",
    "    # - traditionally, static methods are used to hold constants, unchanging variables, fundamental business logic, etc\n",
    "    def cleanText(text):\n",
    "        # chaining functions\n",
    "        text = text.replace('!', '').replace('.', '').replace(',', '').replace('\\'', '')\n",
    "        return text.lower()\n",
    "    \n",
    "        \n",
    "wordSet = WordSet()\n",
    "\n",
    "# use \\ to escape '\n",
    "wordSet.addText('Hi, I\\'m Ryan! Here is a sentence I want to add!')\n",
    "wordSet.addText('Here is another sentence I want to add.')\n",
    "\n",
    "print(wordSet.words)"
   ]
  },
  {
   "cell_type": "code",
   "execution_count": 8,
   "id": "b022da1d",
   "metadata": {},
   "outputs": [
    {
     "name": "stdout",
     "output_type": "stream",
     "text": [
      "{'a', 'want', 'sentence', 'im', 'to', 'i', 'here', 'add', 'ryan', 'hi', 'is', 'another'}\n"
     ]
    }
   ],
   "source": [
    "class WordSet:\n",
    "    # static attribute - part of the class definition rather than being associated with a particular class instance\n",
    "    # another example (aside from replacePuncs below) is the _legs from Dogs class in the previous lesson\n",
    "    replacePuncs = ['!', '.', ',', '\\'']\n",
    "    def __init__(self):\n",
    "        self.words = set()\n",
    "        \n",
    "    def addText(self, text):\n",
    "        text = WordSet.cleanText(text)\n",
    "        for word in text.split():\n",
    "            self.words.add(word)\n",
    "            \n",
    "        \n",
    "    def cleanText(text):\n",
    "        # with static variables, we have the option to use the class name Wordset or the class instance self\n",
    "        # IF we're passing self in cleanText() (i.e., cleanText(self, text))\n",
    "        for punc in WordSet.replacePuncs:\n",
    "            text = text.replace(punc, '')\n",
    "        return text.lower()\n",
    "    \n",
    "        \n",
    "wordSet = WordSet()\n",
    "\n",
    "wordSet.addText('Hi, I\\'m Ryan! Here is a sentence I want to add!')\n",
    "wordSet.addText('Here is another sentence I want to add.')\n",
    "\n",
    "print(wordSet.words)"
   ]
  },
  {
   "cell_type": "code",
   "execution_count": null,
   "id": "45377768-a33c-40f9-bd1a-775204f2e569",
   "metadata": {},
   "outputs": [],
   "source": [
    "class WordSet:\n",
    "    # static attribute - part of the class definition rather than being associated with a particular class instance\n",
    "    # another example (aside from replacePuncs below) is the _legs from Dogs class in the previous lesson\n",
    "    replacePuncs = ['!', '.', ',', '\\'']\n",
    "    def __init__(self):\n",
    "        self.words = set()\n",
    "        \n",
    "    def addText(self, text):\n",
    "        # but we CANNOT do use self when calling cleanText() (i.e., self.cleanText(text)) here\n",
    "        # because it would actually pass the instance into the cleanText() function\n",
    "        # to solve this problem, use a decorator (see cell 7)\n",
    "        text = WordSet.cleanText(text)\n",
    "        for word in text.split():\n",
    "            self.words.add(word)\n",
    "            \n",
    "        \n",
    "    def cleanText(text):\n",
    "        # with static variables, we have the option to use the class name Wordset or the class instance self\n",
    "        # IF we're passing self in cleanText() (i.e., cleanText(self, text))\n",
    "        for punc in WordSet.replacePuncs:\n",
    "            text = text.replace(punc, '')\n",
    "        return text.lower()\n",
    "    \n",
    "        \n",
    "wordSet = WordSet()\n",
    "\n",
    "wordSet.addText('Hi, I\\'m Ryan! Here is a sentence I want to add!')\n",
    "wordSet.addText('Here is another sentence I want to add.')\n",
    "\n",
    "print(wordSet.words)"
   ]
  },
  {
   "cell_type": "markdown",
   "id": "bec9bbe4",
   "metadata": {},
   "source": [
    "### Decorators "
   ]
  },
  {
   "cell_type": "code",
   "execution_count": 9,
   "id": "87b6c48c",
   "metadata": {},
   "outputs": [
    {
     "name": "stdout",
     "output_type": "stream",
     "text": [
      "{'a', 'want', 'sentence', 'im', 'to', 'i', 'here', 'add', 'ryan', 'hi', 'is', 'another'}\n"
     ]
    }
   ],
   "source": [
    "class WordSet:\n",
    "    replacePuncs = ['!', '.', ',', '\\'']\n",
    "    def __init__(self):\n",
    "        self.words = set()\n",
    "        \n",
    "    def addText(self, text):\n",
    "        # because of @staticmethod, WordSet.cleanText(text) can now be self.cleanText(text)\n",
    "        text = self.cleanText(text)\n",
    "        for word in text.split():\n",
    "            self.words.add(word)\n",
    "\n",
    "    # decorator - an annotation or description for your function definition\n",
    "    # - it belongs to the function definition there, so @staticmethod belongs to def cleanText(text)\n",
    "    # decorators always start with @\n",
    "    @staticmethod\n",
    "    # static method decorator - defined some special attributes or information about the function so that python knows how to handle it\n",
    "    # - now that we've explicitly told python that clean text is a static method, that self should not be passed in as an argument,\n",
    "    #   we can use self in calling cleanText() in addText() (see above)\n",
    "    def cleanText(text):\n",
    "        # chaining functions\n",
    "        for punc in WordSet.replacePuncs:\n",
    "            text = text.replace(punc, '')\n",
    "        return text.lower()\n",
    "    \n",
    "        \n",
    "wordSet = WordSet()\n",
    "\n",
    "wordSet.addText('Hi, I\\'m Ryan! Here is a sentence I want to add!')\n",
    "wordSet.addText('Here is another sentence I want to add.')\n",
    "\n",
    "print(wordSet.words)"
   ]
  },
  {
   "cell_type": "code",
   "execution_count": null,
   "id": "02bf743c-bb21-4bee-b1b2-2930749c9bab",
   "metadata": {},
   "outputs": [],
   "source": [
    "# you don't have to use the static method decorator\n",
    "# depending on the company you work for, they may require you to use it just as a matter of style"
   ]
  }
 ],
 "metadata": {
  "kernelspec": {
   "display_name": "Python 3 (ipykernel)",
   "language": "python",
   "name": "python3"
  },
  "language_info": {
   "codemirror_mode": {
    "name": "ipython",
    "version": 3
   },
   "file_extension": ".py",
   "mimetype": "text/x-python",
   "name": "python",
   "nbconvert_exporter": "python",
   "pygments_lexer": "ipython3",
   "version": "3.12.3"
  }
 },
 "nbformat": 4,
 "nbformat_minor": 5
}
