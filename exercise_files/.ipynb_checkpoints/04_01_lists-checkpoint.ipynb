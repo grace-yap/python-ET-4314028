{
 "cells": [
  {
   "cell_type": "markdown",
   "id": "aec5c7a9",
   "metadata": {},
   "source": [
    "## Lists"
   ]
  },
  {
   "cell_type": "markdown",
   "id": "6b95c52f",
   "metadata": {},
   "source": [
    "### List Slicing"
   ]
  },
  {
   "cell_type": "code",
   "execution_count": 1,
   "id": "f3869ca7",
   "metadata": {},
   "outputs": [
    {
     "data": {
      "text/plain": [
       "[4, 5]"
      ]
     },
     "execution_count": 1,
     "metadata": {},
     "output_type": "execute_result"
    }
   ],
   "source": [
    "### Lists are one of the most fundamental and useful data structures in Python.\n",
    "\n",
    "myList = [1,2,3,4,5]\n",
    "myList[3:]"
   ]
  },
  {
   "cell_type": "code",
   "execution_count": 2,
   "id": "e6fef4b7",
   "metadata": {},
   "outputs": [
    {
     "data": {
      "text/plain": [
       "[1, 3, 5]"
      ]
     },
     "execution_count": 2,
     "metadata": {},
     "output_type": "execute_result"
    }
   ],
   "source": [
    "# # string[x:y:s]\n",
    "# gets characters between index x and index y, excluding index y\n",
    "# s - step size\n",
    "# step size of 2 prints out every other item\n",
    "myList[0:6:2]"
   ]
  },
  {
   "cell_type": "code",
   "execution_count": 3,
   "id": "9d72ca4c-2e62-4fa0-979d-a67164ed8153",
   "metadata": {},
   "outputs": [
    {
     "data": {
      "text/plain": [
       "[1]"
      ]
     },
     "execution_count": 3,
     "metadata": {},
     "output_type": "execute_result"
    }
   ],
   "source": [
    "myList[::100]"
   ]
  },
  {
   "cell_type": "code",
   "execution_count": 3,
   "id": "6d587461",
   "metadata": {},
   "outputs": [
    {
     "data": {
      "text/plain": [
       "[1, 4]"
      ]
     },
     "execution_count": 3,
     "metadata": {},
     "output_type": "execute_result"
    }
   ],
   "source": [
    "myList[0:6:3]"
   ]
  },
  {
   "cell_type": "code",
   "execution_count": 4,
   "id": "3103c64d",
   "metadata": {},
   "outputs": [
    {
     "data": {
      "text/plain": [
       "[1, 3, 5]"
      ]
     },
     "execution_count": 4,
     "metadata": {},
     "output_type": "execute_result"
    }
   ],
   "source": [
    "# if you're going from the very start until the very end of the list, you don't have to give any values\n",
    "# same as myList[0:6:2]\n",
    "myList[::2]"
   ]
  },
  {
   "cell_type": "code",
   "execution_count": null,
   "id": "3dc127d5",
   "metadata": {},
   "outputs": [],
   "source": [
    "# range function - a sequence type, like a tuple\n",
    "# - has an order, is immutable, and isn't frequently used except for looping through in code like this:\n",
    "for i in range(100):\n",
    "    print(i)"
   ]
  },
  {
   "cell_type": "code",
   "execution_count": 8,
   "id": "57f1b769",
   "metadata": {},
   "outputs": [],
   "source": [
    "# take the range and convert/cast it to a list\n",
    "# note that the first element is 0\n",
    "myList = list(range(100))"
   ]
  },
  {
   "cell_type": "code",
   "execution_count": 10,
   "id": "6b968843",
   "metadata": {},
   "outputs": [
    {
     "data": {
      "text/plain": [
       "[0, 10, 20, 30, 40, 50, 60, 70, 80, 90]"
      ]
     },
     "execution_count": 10,
     "metadata": {},
     "output_type": "execute_result"
    }
   ],
   "source": [
    "myList[::10]"
   ]
  },
  {
   "cell_type": "code",
   "execution_count": 13,
   "id": "21841d6c-32b4-4854-9d70-b14867a0b7a4",
   "metadata": {},
   "outputs": [
    {
     "data": {
      "text/plain": [
       "[99]"
      ]
     },
     "execution_count": 13,
     "metadata": {},
     "output_type": "execute_result"
    }
   ],
   "source": [
    "myList[99:]"
   ]
  },
  {
   "cell_type": "code",
   "execution_count": 12,
   "id": "d6b81548",
   "metadata": {},
   "outputs": [
    {
     "data": {
      "text/plain": [
       "[99, 89, 79, 69, 59, 49, 39, 29, 19, 9]"
      ]
     },
     "execution_count": 12,
     "metadata": {},
     "output_type": "execute_result"
    }
   ],
   "source": [
    "# if step size is negative, it steps through the list backwards\n",
    "myList[::-10]"
   ]
  },
  {
   "cell_type": "code",
   "execution_count": 14,
   "id": "2eadadd4-5536-4f93-8521-f1f19490777d",
   "metadata": {},
   "outputs": [],
   "source": [
    "testList = list(range(1,101))"
   ]
  },
  {
   "cell_type": "code",
   "execution_count": 15,
   "id": "83f5c8a6-51e8-41d0-9de6-4850847224e9",
   "metadata": {
    "scrolled": true
   },
   "outputs": [
    {
     "data": {
      "text/plain": [
       "[1, 11, 21, 31, 41, 51, 61, 71, 81, 91]"
      ]
     },
     "execution_count": 15,
     "metadata": {},
     "output_type": "execute_result"
    }
   ],
   "source": [
    "testList[::10]"
   ]
  },
  {
   "cell_type": "code",
   "execution_count": 16,
   "id": "003f160b-2b41-44dd-b449-b7e5d48e31ed",
   "metadata": {
    "scrolled": true
   },
   "outputs": [
    {
     "data": {
      "text/plain": [
       "[100]"
      ]
     },
     "execution_count": 16,
     "metadata": {},
     "output_type": "execute_result"
    }
   ],
   "source": [
    "testList[99:]"
   ]
  },
  {
   "cell_type": "code",
   "execution_count": 17,
   "id": "88e29baf-d933-4628-87af-c22ddaea6f3f",
   "metadata": {},
   "outputs": [
    {
     "data": {
      "text/plain": [
       "[1, 10, 19, 28, 37, 46, 55, 64, 73, 82, 91, 100]"
      ]
     },
     "execution_count": 17,
     "metadata": {},
     "output_type": "execute_result"
    }
   ],
   "source": [
    "testList[::9]"
   ]
  },
  {
   "cell_type": "markdown",
   "id": "d138451b",
   "metadata": {},
   "source": [
    "### Modifying Lists"
   ]
  },
  {
   "cell_type": "code",
   "execution_count": 18,
   "id": "5c065aff",
   "metadata": {},
   "outputs": [
    {
     "name": "stdout",
     "output_type": "stream",
     "text": [
      "[1, 2, 3, 4, 5]\n"
     ]
    }
   ],
   "source": [
    "# append function - adds an item to the end of the list\n",
    "myList = [1,2,3,4]\n",
    "myList.append(5)\n",
    "print(myList)"
   ]
  },
  {
   "cell_type": "code",
   "execution_count": 19,
   "id": "93e06c86",
   "metadata": {},
   "outputs": [
    {
     "name": "stdout",
     "output_type": "stream",
     "text": [
      "[1, 2, 3, 'a new value', 4, 5]\n"
     ]
    }
   ],
   "source": [
    "# insert function - insert item at any position\n",
    "# syntax:\n",
    "# list_variable_insert(index, <value>)\n",
    "myList.insert(3, 'a new value')\n",
    "print(myList)"
   ]
  },
  {
   "cell_type": "code",
   "execution_count": 20,
   "id": "860ff53b",
   "metadata": {},
   "outputs": [],
   "source": [
    "# remove function - don't have to pass an index, just the value of the item\n",
    "# - will throw an error if the item isn't in the list\n",
    "myList.remove('a new value')"
   ]
  },
  {
   "cell_type": "code",
   "execution_count": 16,
   "id": "83863968",
   "metadata": {},
   "outputs": [
    {
     "data": {
      "text/plain": [
       "[1, 2, 3, 4, 5]"
      ]
     },
     "execution_count": 16,
     "metadata": {},
     "output_type": "execute_result"
    }
   ],
   "source": [
    "myList"
   ]
  },
  {
   "cell_type": "code",
   "execution_count": 21,
   "id": "d5a8f0cd",
   "metadata": {},
   "outputs": [
    {
     "data": {
      "text/plain": [
       "5"
      ]
     },
     "execution_count": 21,
     "metadata": {},
     "output_type": "execute_result"
    }
   ],
   "source": [
    "# pop function - don't have to pass any arguments at all\n",
    "# - it will remove the item at the end of the list and returns it to you\n",
    "myList.pop()"
   ]
  },
  {
   "cell_type": "code",
   "execution_count": 22,
   "id": "7d51f9c9",
   "metadata": {},
   "outputs": [
    {
     "data": {
      "text/plain": [
       "[1, 2, 3, 4]"
      ]
     },
     "execution_count": 22,
     "metadata": {},
     "output_type": "execute_result"
    }
   ],
   "source": [
    "myList"
   ]
  },
  {
   "cell_type": "code",
   "execution_count": 23,
   "id": "2356b2a6",
   "metadata": {},
   "outputs": [
    {
     "name": "stdout",
     "output_type": "stream",
     "text": [
      "4\n",
      "3\n",
      "2\n",
      "1\n"
     ]
    }
   ],
   "source": [
    "# while there are items in myList\n",
    "# this will evaulate to false when the length of myList is 0\n",
    "while len(myList):\n",
    "    print(myList.pop())"
   ]
  },
  {
   "cell_type": "code",
   "execution_count": 24,
   "id": "5ddad205",
   "metadata": {},
   "outputs": [
    {
     "data": {
      "text/plain": [
       "[]"
      ]
     },
     "execution_count": 24,
     "metadata": {},
     "output_type": "execute_result"
    }
   ],
   "source": [
    "# myList is now empty\n",
    "myList"
   ]
  },
  {
   "cell_type": "code",
   "execution_count": 22,
   "id": "501f1468",
   "metadata": {},
   "outputs": [
    {
     "name": "stdout",
     "output_type": "stream",
     "text": [
      "[1, 2, 3, 4, 5, 6]\n"
     ]
    }
   ],
   "source": [
    "# DIFFERENCE BETWEEN setting a variable to another variable...\n",
    "# a and b point to the same memory storage\n",
    "# so appending to a also affects b\n",
    "a = [1,2,3,4,5]\n",
    "b = a\n",
    "a.append(6)\n",
    "print(b)"
   ]
  },
  {
   "cell_type": "code",
   "execution_count": 25,
   "id": "ce336008-7244-40d4-a393-771106f53323",
   "metadata": {},
   "outputs": [
    {
     "name": "stdout",
     "output_type": "stream",
     "text": [
      "[1, 2, 3, 4, 5, 6]\n"
     ]
    }
   ],
   "source": [
    "# same goes when appending to b also affects a\n",
    "a = [1,2,3,4,5]\n",
    "b = a\n",
    "b.append(6)\n",
    "print(a)"
   ]
  },
  {
   "cell_type": "code",
   "execution_count": 23,
   "id": "89a368d1",
   "metadata": {},
   "outputs": [
    {
     "name": "stdout",
     "output_type": "stream",
     "text": [
      "[1, 2, 3, 4, 5, 6]\n",
      "[1, 2, 3, 4, 5]\n"
     ]
    }
   ],
   "source": [
    "# ...AND making a copy of a variable\n",
    "# copy function - makes an identical copy of the list stored separately in memory\n",
    "a = [1,2,3,4,5]\n",
    "b = a.copy()\n",
    "a.append(6)\n",
    "print(a)\n",
    "print(b)"
   ]
  },
  {
   "cell_type": "code",
   "execution_count": 24,
   "id": "6e1ceb3e",
   "metadata": {},
   "outputs": [
    {
     "name": "stdout",
     "output_type": "stream",
     "text": [
      "0\n",
      "1\n",
      "2\n",
      "3\n",
      "4\n",
      "5\n",
      "6\n",
      "7\n",
      "8\n",
      "9\n",
      "10\n",
      "11\n",
      "12\n",
      "13\n",
      "14\n",
      "15\n",
      "16\n",
      "17\n",
      "18\n",
      "19\n"
     ]
    }
   ],
   "source": [
    "for i in range(20):\n",
    "    print(i)"
   ]
  },
  {
   "cell_type": "code",
   "execution_count": null,
   "id": "07868576",
   "metadata": {},
   "outputs": [],
   "source": []
  }
 ],
 "metadata": {
  "kernelspec": {
   "display_name": "Python 3 (ipykernel)",
   "language": "python",
   "name": "python3"
  },
  "language_info": {
   "codemirror_mode": {
    "name": "ipython",
    "version": 3
   },
   "file_extension": ".py",
   "mimetype": "text/x-python",
   "name": "python",
   "nbconvert_exporter": "python",
   "pygments_lexer": "ipython3",
   "version": "3.12.3"
  }
 },
 "nbformat": 4,
 "nbformat_minor": 5
}
