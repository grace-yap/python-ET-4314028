{
 "cells": [
  {
   "cell_type": "markdown",
   "id": "b0f022fe",
   "metadata": {},
   "source": [
    "## Custom Exceptions"
   ]
  },
  {
   "cell_type": "code",
   "execution_count": 1,
   "id": "a15ba290",
   "metadata": {},
   "outputs": [
    {
     "ename": "CustomException",
     "evalue": "",
     "output_type": "error",
     "traceback": [
      "\u001b[1;31m---------------------------------------------------------------------------\u001b[0m",
      "\u001b[1;31mCustomException\u001b[0m                           Traceback (most recent call last)",
      "Cell \u001b[1;32mIn[1], line 11\u001b[0m\n\u001b[0;32m      8\u001b[0m \u001b[38;5;28;01mdef\u001b[39;00m \u001b[38;5;21mcauseError\u001b[39m():\n\u001b[0;32m      9\u001b[0m     \u001b[38;5;28;01mraise\u001b[39;00m CustomException()\n\u001b[1;32m---> 11\u001b[0m \u001b[43mcauseError\u001b[49m\u001b[43m(\u001b[49m\u001b[43m)\u001b[49m\n",
      "Cell \u001b[1;32mIn[1], line 9\u001b[0m, in \u001b[0;36mcauseError\u001b[1;34m()\u001b[0m\n\u001b[0;32m      8\u001b[0m \u001b[38;5;28;01mdef\u001b[39;00m \u001b[38;5;21mcauseError\u001b[39m():\n\u001b[1;32m----> 9\u001b[0m     \u001b[38;5;28;01mraise\u001b[39;00m CustomException()\n",
      "\u001b[1;31mCustomException\u001b[0m: "
     ]
    }
   ],
   "source": [
    "class CustomException(Exception):\n",
    "    # we literally don't need to define anything for our new CustomException class\n",
    "    # it inherits the constructor of the Exception class that it's extending\n",
    "    # the key information is in the name, CustomException\n",
    "    # nd often this is all the information you need to know to help debug your app or let the user know what they're doing wrong\n",
    "    pass\n",
    "\n",
    "def causeError():\n",
    "    raise CustomException()\n",
    "    \n",
    "causeError()"
   ]
  },
  {
   "cell_type": "code",
   "execution_count": 2,
   "id": "f7d22f32-47a9-47ce-a428-ef4065b79888",
   "metadata": {},
   "outputs": [
    {
     "ename": "CustomException",
     "evalue": "You called the causeError function!",
     "output_type": "error",
     "traceback": [
      "\u001b[1;31m---------------------------------------------------------------------------\u001b[0m",
      "\u001b[1;31mCustomException\u001b[0m                           Traceback (most recent call last)",
      "Cell \u001b[1;32mIn[2], line 8\u001b[0m\n\u001b[0;32m      4\u001b[0m \u001b[38;5;28;01mdef\u001b[39;00m \u001b[38;5;21mcauseError\u001b[39m():\n\u001b[0;32m      5\u001b[0m     \u001b[38;5;66;03m# pass a custom message to the new CustomException class\u001b[39;00m\n\u001b[0;32m      6\u001b[0m     \u001b[38;5;28;01mraise\u001b[39;00m CustomException(\u001b[38;5;124m'\u001b[39m\u001b[38;5;124mYou called the causeError function!\u001b[39m\u001b[38;5;124m'\u001b[39m)\n\u001b[1;32m----> 8\u001b[0m \u001b[43mcauseError\u001b[49m\u001b[43m(\u001b[49m\u001b[43m)\u001b[49m\n",
      "Cell \u001b[1;32mIn[2], line 6\u001b[0m, in \u001b[0;36mcauseError\u001b[1;34m()\u001b[0m\n\u001b[0;32m      4\u001b[0m \u001b[38;5;28;01mdef\u001b[39;00m \u001b[38;5;21mcauseError\u001b[39m():\n\u001b[0;32m      5\u001b[0m     \u001b[38;5;66;03m# pass a custom message to the new CustomException class\u001b[39;00m\n\u001b[1;32m----> 6\u001b[0m     \u001b[38;5;28;01mraise\u001b[39;00m CustomException(\u001b[38;5;124m'\u001b[39m\u001b[38;5;124mYou called the causeError function!\u001b[39m\u001b[38;5;124m'\u001b[39m)\n",
      "\u001b[1;31mCustomException\u001b[0m: You called the causeError function!"
     ]
    }
   ],
   "source": [
    "class CustomException(Exception):\n",
    "    pass\n",
    "\n",
    "def causeError():\n",
    "    # pass a custom message to the new CustomException class\n",
    "    raise CustomException('You called the causeError function!')\n",
    "    \n",
    "causeError()"
   ]
  },
  {
   "cell_type": "markdown",
   "id": "b0cae9c9",
   "metadata": {},
   "source": [
    "### Adding Attributes"
   ]
  },
  {
   "cell_type": "code",
   "execution_count": 4,
   "id": "1b6caf83",
   "metadata": {},
   "outputs": [
    {
     "ename": "ServerError",
     "evalue": "Status code: 500 and message is: The server messed up!",
     "output_type": "error",
     "traceback": [
      "\u001b[0;31m---------------------------------------------------------------------------\u001b[0m",
      "\u001b[0;31mServerError\u001b[0m                               Traceback (most recent call last)",
      "Input \u001b[0;32mIn [4]\u001b[0m, in \u001b[0;36m<module>\u001b[0;34m\u001b[0m\n\u001b[1;32m     15\u001b[0m \u001b[38;5;28;01mdef\u001b[39;00m \u001b[38;5;21mraiseServerError\u001b[39m():\n\u001b[1;32m     16\u001b[0m     \u001b[38;5;28;01mraise\u001b[39;00m ServerError()\n\u001b[0;32m---> 18\u001b[0m \u001b[43mraiseServerError\u001b[49m\u001b[43m(\u001b[49m\u001b[43m)\u001b[49m\n",
      "Input \u001b[0;32mIn [4]\u001b[0m, in \u001b[0;36mraiseServerError\u001b[0;34m()\u001b[0m\n\u001b[1;32m     15\u001b[0m \u001b[38;5;28;01mdef\u001b[39;00m \u001b[38;5;21mraiseServerError\u001b[39m():\n\u001b[0;32m---> 16\u001b[0m     \u001b[38;5;28;01mraise\u001b[39;00m ServerError()\n",
      "\u001b[0;31mServerError\u001b[0m: Status code: 500 and message is: The server messed up!"
     ]
    }
   ],
   "source": [
    "# custom exceptions are usually lightweight classes with very little in the way of special attributes and methods\n",
    "# but you might have some attributes that are useful for organizing and presenting information to the user about the error\n",
    "\n",
    "class HttpException(Exception):\n",
    "    statusCode = None\n",
    "    message = None\n",
    "    # override the parent constructor, so we need to define our own constructor\n",
    "    def __init__(self):\n",
    "        # call the parent constructor using super()\n",
    "        # and then when we call in the parent constructor, we're going to pass in the status code message\n",
    "        super().__init__(f'Status code: {self.statusCode} and message is: {self.message}')\n",
    "        \n",
    "class NotFound(HttpException):\n",
    "    statusCode = 404\n",
    "    message = 'Resource not found'\n",
    "    \n",
    "class ServerError(HttpException):\n",
    "    statusCode = 500\n",
    "    message = 'The server messed up!'\n",
    "    \n",
    "def raiseServerError():\n",
    "    raise ServerError()\n",
    "    \n",
    "raiseServerError()\n",
    "\n",
    "# result: this exception message gets formatted with our status code and message because it extends this HttpException"
   ]
  },
  {
   "cell_type": "code",
   "execution_count": null,
   "id": "2eabeda5",
   "metadata": {},
   "outputs": [],
   "source": [
    "### Exception Classes\n",
    "### - Keep code clean and organized\n",
    "### - Exception classes act as documentation (for all the problems that could happen, what caused them, what the solutions are)\n",
    "### - They separate common expected errors from (some perhaps really bad) issues that require developer attention"
   ]
  }
 ],
 "metadata": {
  "kernelspec": {
   "display_name": "Python 3 (ipykernel)",
   "language": "python",
   "name": "python3"
  },
  "language_info": {
   "codemirror_mode": {
    "name": "ipython",
    "version": 3
   },
   "file_extension": ".py",
   "mimetype": "text/x-python",
   "name": "python",
   "nbconvert_exporter": "python",
   "pygments_lexer": "ipython3",
   "version": "3.12.3"
  }
 },
 "nbformat": 4,
 "nbformat_minor": 5
}
