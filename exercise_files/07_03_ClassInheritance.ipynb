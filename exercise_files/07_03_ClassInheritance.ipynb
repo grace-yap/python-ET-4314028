{
 "cells": [
  {
   "cell_type": "markdown",
   "id": "3ca28428",
   "metadata": {},
   "source": [
    "## Class Inheritance"
   ]
  },
  {
   "cell_type": "code",
   "execution_count": null,
   "id": "0a791db6-4e72-4fb4-8f0c-8fdc8a610520",
   "metadata": {},
   "outputs": [],
   "source": [
    "# inheritance - a class can extend another class\n",
    "# parent class - original class\n",
    "# child class - class extending the parent class\n",
    "#             - inherits all of the parent class' methods and attributes\n",
    "# inheritance happens automatically when the child class is created"
   ]
  },
  {
   "cell_type": "code",
   "execution_count": 6,
   "id": "06ce42b1",
   "metadata": {},
   "outputs": [],
   "source": [
    "class Dog:\n",
    "    _legs = 4\n",
    "    def __init__(self, name):\n",
    "        self.name = name\n",
    "\n",
    "    def speak(self):\n",
    "        print(self.name + ' says: Bark!')\n",
    "    \n",
    "    def getLegs(self):\n",
    "        return self._legs\n",
    "\n",
    "# child class syntax:\n",
    "# class child_class(parent_class):\n",
    "class Chihuahua(Dog):\n",
    "    # if the child class defines any attributes or methods that conflict with the parent class, the parent class' methods get overwritten,\n",
    "    #     and the child class' method is used instead\n",
    "    # extend speak(self) method:\n",
    "    def speak(self):\n",
    "        print(f'{self.name} says: Yap yap yap!')\n",
    "\n",
    "    # you can also add additional methods to the child class\n",
    "    # this can be extremely useful if, for example, there's a class you really want to use, but it just needs a couple of tweaks or maybe an extra method\n",
    "    def wagTail(self):\n",
    "        print('Vigorous wagging!')"
   ]
  },
  {
   "cell_type": "code",
   "execution_count": 7,
   "id": "dd5dd985",
   "metadata": {},
   "outputs": [
    {
     "name": "stdout",
     "output_type": "stream",
     "text": [
      "Roxy says: Yap yap yap!\n",
      "Vigorous wagging!\n"
     ]
    }
   ],
   "source": [
    "dog = Chihuahua('Roxy')\n",
    "dog.speak()\n",
    "dog.wagTail()"
   ]
  },
  {
   "cell_type": "code",
   "execution_count": 5,
   "id": "9f367505",
   "metadata": {},
   "outputs": [
    {
     "name": "stdout",
     "output_type": "stream",
     "text": [
      "Rover says: Bark!\n"
     ]
    }
   ],
   "source": [
    "myDog = Dog('Rover')\n",
    "myDog.speak()"
   ]
  },
  {
   "cell_type": "markdown",
   "id": "fb776450",
   "metadata": {},
   "source": [
    "### Extending built-in classes"
   ]
  },
  {
   "cell_type": "code",
   "execution_count": 8,
   "id": "352c540a",
   "metadata": {},
   "outputs": [],
   "source": [
    "# even though list() is in lowercsae and looks like a function, list() is actually a CLASS\n",
    "myList = list()"
   ]
  },
  {
   "cell_type": "code",
   "execution_count": 1,
   "id": "fcf877f7",
   "metadata": {},
   "outputs": [
    {
     "ename": "RecursionError",
     "evalue": "maximum recursion depth exceeded",
     "output_type": "error",
     "traceback": [
      "\u001b[1;31m---------------------------------------------------------------------------\u001b[0m",
      "\u001b[1;31mRecursionError\u001b[0m                            Traceback (most recent call last)",
      "Cell \u001b[1;32mIn[1], line 13\u001b[0m\n\u001b[0;32m     10\u001b[0m         \u001b[38;5;28mself\u001b[39m\u001b[38;5;241m.\u001b[39mappend(item)\n\u001b[0;32m     12\u001b[0m uniqueList \u001b[38;5;241m=\u001b[39m UniqueList()\n\u001b[1;32m---> 13\u001b[0m \u001b[43muniqueList\u001b[49m\u001b[38;5;241;43m.\u001b[39;49m\u001b[43mappend\u001b[49m\u001b[43m(\u001b[49m\u001b[38;5;241;43m1\u001b[39;49m\u001b[43m)\u001b[49m\n\u001b[0;32m     14\u001b[0m uniqueList\u001b[38;5;241m.\u001b[39mappend(\u001b[38;5;241m1\u001b[39m)\n\u001b[0;32m     15\u001b[0m uniqueList\u001b[38;5;241m.\u001b[39mappend(\u001b[38;5;241m2\u001b[39m)\n",
      "Cell \u001b[1;32mIn[1], line 10\u001b[0m, in \u001b[0;36mUniqueList.append\u001b[1;34m(self, item)\u001b[0m\n\u001b[0;32m      7\u001b[0m     \u001b[38;5;28;01mreturn\u001b[39;00m\n\u001b[0;32m      8\u001b[0m \u001b[38;5;66;03m# we're calling self.append(), which is going to call the exact same function right here (in def append(self, item))\u001b[39;00m\n\u001b[0;32m      9\u001b[0m \u001b[38;5;66;03m# def append(self, item) IS self.append(), and this is going to lead to an infinite recursion\u001b[39;00m\n\u001b[1;32m---> 10\u001b[0m \u001b[38;5;28;43mself\u001b[39;49m\u001b[38;5;241;43m.\u001b[39;49m\u001b[43mappend\u001b[49m\u001b[43m(\u001b[49m\u001b[43mitem\u001b[49m\u001b[43m)\u001b[49m\n",
      "Cell \u001b[1;32mIn[1], line 10\u001b[0m, in \u001b[0;36mUniqueList.append\u001b[1;34m(self, item)\u001b[0m\n\u001b[0;32m      7\u001b[0m     \u001b[38;5;28;01mreturn\u001b[39;00m\n\u001b[0;32m      8\u001b[0m \u001b[38;5;66;03m# we're calling self.append(), which is going to call the exact same function right here (in def append(self, item))\u001b[39;00m\n\u001b[0;32m      9\u001b[0m \u001b[38;5;66;03m# def append(self, item) IS self.append(), and this is going to lead to an infinite recursion\u001b[39;00m\n\u001b[1;32m---> 10\u001b[0m \u001b[38;5;28;43mself\u001b[39;49m\u001b[38;5;241;43m.\u001b[39;49m\u001b[43mappend\u001b[49m\u001b[43m(\u001b[49m\u001b[43mitem\u001b[49m\u001b[43m)\u001b[49m\n",
      "    \u001b[1;31m[... skipping similar frames: UniqueList.append at line 10 (2974 times)]\u001b[0m\n",
      "Cell \u001b[1;32mIn[1], line 10\u001b[0m, in \u001b[0;36mUniqueList.append\u001b[1;34m(self, item)\u001b[0m\n\u001b[0;32m      7\u001b[0m     \u001b[38;5;28;01mreturn\u001b[39;00m\n\u001b[0;32m      8\u001b[0m \u001b[38;5;66;03m# we're calling self.append(), which is going to call the exact same function right here (in def append(self, item))\u001b[39;00m\n\u001b[0;32m      9\u001b[0m \u001b[38;5;66;03m# def append(self, item) IS self.append(), and this is going to lead to an infinite recursion\u001b[39;00m\n\u001b[1;32m---> 10\u001b[0m \u001b[38;5;28;43mself\u001b[39;49m\u001b[38;5;241;43m.\u001b[39;49m\u001b[43mappend\u001b[49m\u001b[43m(\u001b[49m\u001b[43mitem\u001b[49m\u001b[43m)\u001b[49m\n",
      "\u001b[1;31mRecursionError\u001b[0m: maximum recursion depth exceeded"
     ]
    }
   ],
   "source": [
    "# create a list that guarantees all items appended to it are unique like a set\n",
    "# extend the list() class and create our own unique list() class\n",
    "class UniqueList(list):\n",
    "    # overwrite the append() function\n",
    "    def append(self, item):\n",
    "        if item in self:\n",
    "            return\n",
    "        # we're calling self.append(), which is going to call the exact same function right here (in def append(self, item))\n",
    "        # def append(self, item) IS self.append(), and this is going to lead to infinite recursion or never-ending loop and break our program\n",
    "        self.append(item)\n",
    "        \n",
    "uniqueList = UniqueList()\n",
    "uniqueList.append(1)\n",
    "uniqueList.append(1)\n",
    "uniqueList.append(2)\n",
    "\n",
    "print(uniqueList)"
   ]
  },
  {
   "cell_type": "code",
   "execution_count": 3,
   "id": "3256bf20-19da-4887-a781-40d008f7f287",
   "metadata": {},
   "outputs": [
    {
     "name": "stdout",
     "output_type": "stream",
     "text": [
      "[1, 2]\n"
     ]
    }
   ],
   "source": [
    "class UniqueList(list):\n",
    "    def append(self, item):\n",
    "        if item in self:\n",
    "            return\n",
    "        # what we actually want to do is to call append() in the PARENT class, the original list() class\n",
    "        # for this, use the super() function\n",
    "        # super() function - gets the underlying instance of the parent class\n",
    "        super().append(item)\n",
    "        \n",
    "uniqueList = UniqueList()\n",
    "uniqueList.append(1)\n",
    "uniqueList.append(1)\n",
    "uniqueList.append(2)\n",
    "\n",
    "print(uniqueList)"
   ]
  },
  {
   "cell_type": "code",
   "execution_count": 10,
   "id": "e6ec6f25",
   "metadata": {},
   "outputs": [
    {
     "name": "stdout",
     "output_type": "stream",
     "text": [
      "Unique List!\n"
     ]
    }
   ],
   "source": [
    "# another common use case for super() is in the constructor\n",
    "\n",
    "class UniqueList(list):\n",
    "\n",
    "    # you want to add another attribute to your child class instance\n",
    "    def __init__(self):\n",
    "        # the problem is we're completely overwriting the constrcutor in the parent class now\n",
    "        #     where it may have really important stuff that it needs to initialize\n",
    "        self.someProperty = 'Unique List!'\n",
    "        \n",
    "    def append(self, item):\n",
    "        if item in self:\n",
    "            return\n",
    "        super().append(item)\n",
    "        \n",
    "uniqueList = UniqueList()\n",
    "uniqueList.append(1)\n",
    "uniqueList.append(1)\n",
    "uniqueList.append(2)\n",
    "\n",
    "print(uniqueList.someProperty)"
   ]
  },
  {
   "cell_type": "code",
   "execution_count": 4,
   "id": "6ea4c632",
   "metadata": {},
   "outputs": [
    {
     "name": "stdout",
     "output_type": "stream",
     "text": [
      "Unique List!\n"
     ]
    }
   ],
   "source": [
    "class UniqueList(list):\n",
    "\n",
    "    def __init__(self):\n",
    "        # we can solve this by using super()\n",
    "        # this makes sure that the parent constructor gets called first, and then we add our new property\n",
    "        super().__init__()\n",
    "        self.someProperty = 'Unique List!'\n",
    "        \n",
    "    def append(self, item):\n",
    "        if item in self:\n",
    "            return\n",
    "        super().append(item)\n",
    "        \n",
    "uniqueList = UniqueList()\n",
    "uniqueList.append(1)\n",
    "uniqueList.append(1)\n",
    "uniqueList.append(2)\n",
    "\n",
    "print(uniqueList.someProperty)"
   ]
  },
  {
   "cell_type": "code",
   "execution_count": null,
   "id": "1d7c9e60-6d64-4459-8c5e-a2c4e7feea86",
   "metadata": {},
   "outputs": [],
   "source": []
  }
 ],
 "metadata": {
  "kernelspec": {
   "display_name": "Python 3 (ipykernel)",
   "language": "python",
   "name": "python3"
  },
  "language_info": {
   "codemirror_mode": {
    "name": "ipython",
    "version": 3
   },
   "file_extension": ".py",
   "mimetype": "text/x-python",
   "name": "python",
   "nbconvert_exporter": "python",
   "pygments_lexer": "ipython3",
   "version": "3.12.3"
  }
 },
 "nbformat": 4,
 "nbformat_minor": 5
}
