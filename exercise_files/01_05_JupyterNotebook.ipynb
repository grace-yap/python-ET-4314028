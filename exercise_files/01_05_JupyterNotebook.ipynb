{
 "cells": [
  {
   "cell_type": "markdown",
   "id": "62ce1d82",
   "metadata": {},
   "source": [
    "# Title\n",
    "## Smaller Title"
   ]
  },
  {
   "cell_type": "markdown",
   "id": "12d15452",
   "metadata": {},
   "source": [
    "\\begin{equation}\n",
    "e^x=\\sum_{i=0}^\\infty \\frac{1}{i!}x^i\n",
    "\\end{equation}"
   ]
  },
  {
   "cell_type": "code",
   "execution_count": 2,
   "id": "ab0b33ee",
   "metadata": {},
   "outputs": [
    {
     "name": "stdout",
     "output_type": "stream",
     "text": [
      "Doing some data science!\n"
     ]
    }
   ],
   "source": [
    "print('Doing some data science!')"
   ]
  },
  {
   "cell_type": "code",
   "execution_count": 1,
   "id": "70df0832",
   "metadata": {},
   "outputs": [
    {
     "name": "stdout",
     "output_type": "stream",
     "text": [
      "2\n"
     ]
    }
   ],
   "source": [
    "print(1 + 1)"
   ]
  },
  {
   "cell_type": "code",
   "execution_count": 3,
   "id": "23519052",
   "metadata": {},
   "outputs": [
    {
     "name": "stdout",
     "output_type": "stream",
     "text": [
      "test\n"
     ]
    }
   ],
   "source": [
    "print('test')"
   ]
  },
  {
   "cell_type": "markdown",
   "id": "57a1d00e-008b-4bb9-8f24-39ec9b158d5e",
   "metadata": {},
   "source": [
    "markdown normal text\n",
    "# Title\n",
    "## Subtitle\n",
    "##"
   ]
  },
  {
   "cell_type": "code",
   "execution_count": 2,
   "id": "afed5e14-ff35-40a7-8670-dfea352bf2cf",
   "metadata": {},
   "outputs": [
    {
     "name": "stdout",
     "output_type": "stream",
     "text": [
      "from vs code\n",
      "4\n"
     ]
    }
   ],
   "source": [
    "print('from vs code')\n",
    "print(2+2)"
   ]
  },
  {
   "cell_type": "code",
   "execution_count": null,
   "id": "07debbb8",
   "metadata": {},
   "outputs": [],
   "source": []
  }
 ],
 "metadata": {
  "kernelspec": {
   "display_name": "Python 3 (ipykernel)",
   "language": "python",
   "name": "python3"
  },
  "language_info": {
   "codemirror_mode": {
    "name": "ipython",
    "version": 3
   },
   "file_extension": ".py",
   "mimetype": "text/x-python",
   "name": "python",
   "nbconvert_exporter": "python",
   "pygments_lexer": "ipython3",
   "version": "3.11.4"
  },
  "vscode": {
   "interpreter": {
    "hash": "949777d72b0d2535278d3dc13498b2535136f6dfe0678499012e853ee9abcab1"
   }
  }
 },
 "nbformat": 4,
 "nbformat_minor": 5
}
