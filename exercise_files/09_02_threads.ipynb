{
 "cells": [
  {
   "cell_type": "code",
   "execution_count": 2,
   "id": "48a15793",
   "metadata": {
    "scrolled": true
   },
   "outputs": [],
   "source": [
    "import threading\n",
    "import time"
   ]
  },
  {
   "cell_type": "markdown",
   "id": "5be113b0",
   "metadata": {},
   "source": [
    "## Threads"
   ]
  },
  {
   "cell_type": "code",
   "execution_count": 3,
   "id": "230c796a",
   "metadata": {
    "scrolled": true
   },
   "outputs": [
    {
     "data": {
      "text/plain": [
       "[0, 1, 4, 9, 16]"
      ]
     },
     "execution_count": 3,
     "metadata": {},
     "output_type": "execute_result"
    }
   ],
   "source": [
    "# function that calculates the square of a number but takes a long time to do it\n",
    "def longSquare(num):\n",
    "    time.sleep(1)\n",
    "    return num**2\n",
    "\n",
    "[longSquare(n) for n in range(0, 5)]"
   ]
  },
  {
   "cell_type": "code",
   "execution_count": null,
   "id": "5357ba2a-6b94-491f-b8f5-67bcd092e8de",
   "metadata": {},
   "outputs": [],
   "source": [
    "# waiting to fetch data back from a remote server, your code is just sitting around and doing nothing, waiting for that data to come back\n",
    "# this is where threads come in handy\n",
    "# so you can do all the waiting in parallel rather than one at a time"
   ]
  },
  {
   "cell_type": "code",
   "execution_count": 4,
   "id": "f105891d",
   "metadata": {},
   "outputs": [],
   "source": [
    "# pass in 2 keyword arguments:\n",
    "# 1. target - name of the target function\n",
    "# 2. args - arguments passed to the function\n",
    "\n",
    "# put comma after the first arg value just to show python that it's a tuple and not a random variable with parenthesis around it\n",
    "# if you only have one value in the tuple, sometimes it's necessary \n",
    "t1 = threading.Thread(target=longSquare, args=(1,))\n",
    "t2 = threading.Thread(target=longSquare, args=(2,))\n",
    "\n",
    "# start both threads\n",
    "t1.start()\n",
    "t2.start()\n",
    "\n",
    "# join the threads\n",
    "# join() function - checks to see if the thread has completed execution yet and pauses until execution's complete\n",
    "t1.join()\n",
    "t2.join()\n",
    "\n",
    "# where are the results?"
   ]
  },
  {
   "cell_type": "code",
   "execution_count": 5,
   "id": "7b24db1e-45c4-4f3f-8432-e66bf516d35b",
   "metadata": {},
   "outputs": [
    {
     "ename": "AttributeError",
     "evalue": "'Thread' object has no attribute 'results'",
     "output_type": "error",
     "traceback": [
      "\u001b[1;31m---------------------------------------------------------------------------\u001b[0m",
      "\u001b[1;31mAttributeError\u001b[0m                            Traceback (most recent call last)",
      "Cell \u001b[1;32mIn[5], line 2\u001b[0m\n\u001b[0;32m      1\u001b[0m \u001b[38;5;66;03m# you might try to get the results from the thread object\u001b[39;00m\n\u001b[1;32m----> 2\u001b[0m \u001b[43mt1\u001b[49m\u001b[38;5;241;43m.\u001b[39;49m\u001b[43mresults\u001b[49m()\n",
      "\u001b[1;31mAttributeError\u001b[0m: 'Thread' object has no attribute 'results'"
     ]
    }
   ],
   "source": [
    "# you might try to get the results from the thread object\n",
    "# but you're not going to find it here\n",
    "t1.results()"
   ]
  },
  {
   "cell_type": "code",
   "execution_count": null,
   "id": "2504c908-d748-4f59-b807-8f9550aea649",
   "metadata": {},
   "outputs": [],
   "source": [
    "# the return value of the longSquare() function is nowhere in the threads\n",
    "# there is NO way to get the output of this function DIRECTLY\n",
    "# here is where we can take advantage of the fact that threads share memory"
   ]
  },
  {
   "cell_type": "code",
   "execution_count": 6,
   "id": "5be33021",
   "metadata": {},
   "outputs": [
    {
     "name": "stdout",
     "output_type": "stream",
     "text": [
      "{1: 1, 2: 4}\n"
     ]
    }
   ],
   "source": [
    "# modify the function so the results dictionary gets passed in\n",
    "def longSquare(num, results):\n",
    "    time.sleep(1)\n",
    "    # instead of returning anything, it's going to take results and then just add it to the dictionary\n",
    "    results[num] = num**2\n",
    "\n",
    "# create a results dictionary\n",
    "results = {}\n",
    "t1 = threading.Thread(target=longSquare, args=(1,results))\n",
    "t2 = threading.Thread(target=longSquare, args=(2,results))\n",
    "\n",
    "t1.start()\n",
    "t2.start()\n",
    "\n",
    "t1.join()\n",
    "t2.join()\n",
    "\n",
    "print(results)\n",
    "# threads share memory and can modify the same object"
   ]
  },
  {
   "cell_type": "code",
   "execution_count": 7,
   "id": "6f9a6201",
   "metadata": {},
   "outputs": [
    {
     "name": "stdout",
     "output_type": "stream",
     "text": [
      "{0: 0, 1: 1, 3: 9, 4: 16, 2: 4, 5: 25, 7: 49, 6: 36, 9: 81, 10: 100, 8: 64, 11: 121, 13: 169, 12: 144, 15: 225, 14: 196, 17: 289, 16: 256, 18: 324, 21: 441, 20: 400, 19: 361, 25: 625, 26: 676, 22: 484, 24: 576, 23: 529, 28: 784, 27: 729, 29: 841, 30: 900, 31: 961, 32: 1024, 34: 1156, 36: 1296, 35: 1225, 33: 1089, 38: 1444, 37: 1369, 39: 1521, 41: 1681, 40: 1600, 47: 2209, 46: 2116, 48: 2304, 44: 1936, 43: 1849, 42: 1764, 45: 2025, 49: 2401, 50: 2500, 52: 2704, 51: 2601, 55: 3025, 53: 2809, 54: 2916, 57: 3249, 58: 3364, 56: 3136, 59: 3481, 60: 3600, 61: 3721, 62: 3844, 63: 3969, 65: 4225, 64: 4096, 66: 4356, 67: 4489, 68: 4624, 70: 4900, 69: 4761, 73: 5329, 72: 5184, 74: 5476, 71: 5041, 76: 5776, 75: 5625, 78: 6084, 77: 5929, 81: 6561, 80: 6400, 79: 6241, 84: 7056, 83: 6889, 82: 6724, 85: 7225, 86: 7396, 89: 7921, 88: 7744, 87: 7569, 91: 8281, 90: 8100, 94: 8836, 93: 8649, 92: 8464, 96: 9216, 95: 9025, 97: 9409, 99: 9801, 98: 9604}\n"
     ]
    }
   ],
   "source": [
    "# writing t1, t2, start, join is laborious if we wants lots of values or a variable number of values back\n",
    "# so it's common pattern to put all of this into a list\n",
    "\n",
    "def longSquare(num, results):\n",
    "    time.sleep(1)\n",
    "    results[num] = num**2\n",
    "\n",
    "results = {}\n",
    "threads = [threading.Thread(target=longSquare, args=(n, results)) for n in range(0, 100)]\n",
    "[t.start() for t in threads]\n",
    "[t.join() for t in threads]\n",
    "print(results)\n"
   ]
  },
  {
   "cell_type": "code",
   "execution_count": null,
   "id": "c63a0969",
   "metadata": {},
   "outputs": [],
   "source": []
  }
 ],
 "metadata": {
  "kernelspec": {
   "display_name": "Python 3 (ipykernel)",
   "language": "python",
   "name": "python3"
  },
  "language_info": {
   "codemirror_mode": {
    "name": "ipython",
    "version": 3
   },
   "file_extension": ".py",
   "mimetype": "text/x-python",
   "name": "python",
   "nbconvert_exporter": "python",
   "pygments_lexer": "ipython3",
   "version": "3.12.3"
  }
 },
 "nbformat": 4,
 "nbformat_minor": 5
}
