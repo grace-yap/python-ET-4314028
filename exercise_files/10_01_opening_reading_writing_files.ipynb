{
 "cells": [
  {
   "cell_type": "markdown",
   "id": "6aa22b13",
   "metadata": {},
   "source": [
    "## Files"
   ]
  },
  {
   "cell_type": "code",
   "execution_count": null,
   "id": "44b452fc-aec9-44a0-bbff-02da1147bcd2",
   "metadata": {},
   "outputs": [],
   "source": [
    "### Working with Files in Python\n",
    "### - You're working directly with the operating system.\n",
    "# so there are some things that you need to manage\n",
    "# and one of those things is whether you're simply reading the contents of the file or whether you intend to make changes to it, writing it\n",
    "# this is because it causes problems if 2 applications are making changes to the same file at the same time\n",
    "# so the operating system needs to know who's doing what"
   ]
  },
  {
   "cell_type": "markdown",
   "id": "6845a35a",
   "metadata": {},
   "source": [
    "### Reading Files"
   ]
  },
  {
   "cell_type": "code",
   "execution_count": 1,
   "id": "136e3488",
   "metadata": {},
   "outputs": [
    {
     "name": "stdout",
     "output_type": "stream",
     "text": [
      "<_io.TextIOWrapper name='10_01_file.txt' mode='r' encoding='cp1252'>\n"
     ]
    }
   ],
   "source": [
    "# open() function - open file\n",
    "# syntax:\n",
    "# file_variable = open('<file name>', '<action>')\n",
    "# where action can be:\n",
    "# 1. r - read (open file in read mode)\n",
    "# 2. w - write\n",
    "# 3. a - append\n",
    "f = open('10_01_file.txt', 'r')\n",
    "print(f) # you get a file object"
   ]
  },
  {
   "cell_type": "code",
   "execution_count": 2,
   "id": "bac5fb44-27bd-485e-b4d6-89def1a95459",
   "metadata": {},
   "outputs": [
    {
     "data": {
      "text/plain": [
       "_io.TextIOWrapper"
      ]
     },
     "execution_count": 2,
     "metadata": {},
     "output_type": "execute_result"
    }
   ],
   "source": [
    "type(f)"
   ]
  },
  {
   "cell_type": "code",
   "execution_count": 6,
   "id": "37766ca7",
   "metadata": {},
   "outputs": [
    {
     "data": {
      "text/plain": [
       "'Complex is better than complicated.\\n'"
      ]
     },
     "execution_count": 6,
     "metadata": {},
     "output_type": "execute_result"
    }
   ],
   "source": [
    "# ways to get the actual content of the file\n",
    "\n",
    "# readline() function - reads the lines of the file one line at a time\n",
    "f.readline()\n",
    "# you get a different line each time you run\n",
    "# so the file object contains some sort of bookmark of which lines of the file it's already read"
   ]
  },
  {
   "cell_type": "code",
   "execution_count": 7,
   "id": "cbaa3c36",
   "metadata": {},
   "outputs": [
    {
     "data": {
      "text/plain": [
       "['Flat is better than nested.\\n',\n",
       " 'Sparse is better than dense.\\n',\n",
       " 'Readability counts.\\n',\n",
       " \"Special cases aren't special enough to break the rules.\\n\",\n",
       " 'Although practicality beats purity.\\n',\n",
       " 'Errors should never pass silently.\\n',\n",
       " 'Unless explicitly silenced.\\n',\n",
       " 'In the face of ambiguity, refuse the temptation to guess.\\n',\n",
       " 'There should be one-- and preferably only one --obvious way to do it.\\n',\n",
       " \"Although that way may not be obvious at first unless you're Dutch.\\n\",\n",
       " 'Now is better than never.\\n',\n",
       " 'Although never is often better than *right* now.\\n',\n",
       " \"If the implementation is hard to explain, it's a bad idea.\\n\",\n",
       " 'If the implementation is easy to explain, it may be a good idea.\\n',\n",
       " \"Namespaces are one honking great idea -- let's do more of those!\"]"
      ]
     },
     "execution_count": 7,
     "metadata": {},
     "output_type": "execute_result"
    }
   ],
   "source": [
    "# readline() function - get all the lines of the file that HAVE NOT BEEN READ ALREADY, and then puts them in a list of strings\n",
    "f.readlines()"
   ]
  },
  {
   "cell_type": "code",
   "execution_count": 8,
   "id": "e9c3ad4e-2b22-405b-a8fb-c05d851d5952",
   "metadata": {},
   "outputs": [
    {
     "name": "stdout",
     "output_type": "stream",
     "text": [
      "Beautiful is better than ugly.\n",
      "\n",
      "Explicit is better than implicit.\n",
      "\n",
      "Simple is better than complex.\n",
      "\n",
      "Complex is better than complicated.\n",
      "\n",
      "Flat is better than nested.\n",
      "\n",
      "Sparse is better than dense.\n",
      "\n",
      "Readability counts.\n",
      "\n",
      "Special cases aren't special enough to break the rules.\n",
      "\n",
      "Although practicality beats purity.\n",
      "\n",
      "Errors should never pass silently.\n",
      "\n",
      "Unless explicitly silenced.\n",
      "\n",
      "In the face of ambiguity, refuse the temptation to guess.\n",
      "\n",
      "There should be one-- and preferably only one --obvious way to do it.\n",
      "\n",
      "Although that way may not be obvious at first unless you're Dutch.\n",
      "\n",
      "Now is better than never.\n",
      "\n",
      "Although never is often better than *right* now.\n",
      "\n",
      "If the implementation is hard to explain, it's a bad idea.\n",
      "\n",
      "If the implementation is easy to explain, it may be a good idea.\n",
      "\n",
      "Namespaces are one honking great idea -- let's do more of those!\n"
     ]
    }
   ],
   "source": [
    "f = open('10_01_file.txt', 'r')\n",
    "for line in f.readlines():\n",
    "    print(line)\n",
    "# all the lines are double-spaced because each line of the file has a new line character at its end (\\n),\n",
    "# and the print() statement also includes its own new line."
   ]
  },
  {
   "cell_type": "code",
   "execution_count": 9,
   "id": "d4b71184",
   "metadata": {},
   "outputs": [
    {
     "name": "stdout",
     "output_type": "stream",
     "text": [
      "Beautiful is better than ugly.\n",
      "Explicit is better than implicit.\n",
      "Simple is better than complex.\n",
      "Complex is better than complicated.\n",
      "Flat is better than nested.\n",
      "Sparse is better than dense.\n",
      "Readability counts.\n",
      "Special cases aren't special enough to break the rules.\n",
      "Although practicality beats purity.\n",
      "Errors should never pass silently.\n",
      "Unless explicitly silenced.\n",
      "In the face of ambiguity, refuse the temptation to guess.\n",
      "There should be one-- and preferably only one --obvious way to do it.\n",
      "Although that way may not be obvious at first unless you're Dutch.\n",
      "Now is better than never.\n",
      "Although never is often better than *right* now.\n",
      "If the implementation is hard to explain, it's a bad idea.\n",
      "If the implementation is easy to explain, it may be a good idea.\n",
      "Namespaces are one honking great idea -- let's do more of those!\n"
     ]
    }
   ],
   "source": [
    "f = open('10_01_file.txt', 'r')\n",
    "for line in f.readlines():\n",
    "    # strip() function - strips out any leading or trailing whitespace, including new lines\n",
    "    print(line.strip())"
   ]
  },
  {
   "cell_type": "markdown",
   "id": "f50154d9",
   "metadata": {},
   "source": [
    "### Writing Files"
   ]
  },
  {
   "cell_type": "code",
   "execution_count": 13,
   "id": "0a968992",
   "metadata": {},
   "outputs": [
    {
     "name": "stdout",
     "output_type": "stream",
     "text": [
      "<_io.TextIOWrapper name='10_01_output.txt' mode='w' encoding='cp1252'>\n"
     ]
    }
   ],
   "source": [
    "# if file doesn't exist yet, open() [with 'w' argument] will create the file\n",
    "f = open('10_01_output.txt', 'w')\n",
    "print(f)"
   ]
  },
  {
   "cell_type": "code",
   "execution_count": 11,
   "id": "8d516bb2-c428-4aa2-b5ac-3485336b2202",
   "metadata": {},
   "outputs": [
    {
     "data": {
      "text/plain": [
       "6"
      ]
     },
     "execution_count": 11,
     "metadata": {},
     "output_type": "execute_result"
    }
   ],
   "source": [
    "f.write('Line 1')\n",
    "f.write('Line 2')\n",
    "# if you open 10_01_output.txt after running the above lines, you won't see anything in the file\n",
    "# writing to files is an expensive operation,\n",
    "# and python tries to make file writing more efficient by putting all of the data you're writing to the file in a buffer,\n",
    "# and it only writes to the file when that buffer gets full OR when you close the file"
   ]
  },
  {
   "cell_type": "code",
   "execution_count": 12,
   "id": "96ce6aa6-5e4b-4463-bb06-4256a83849d5",
   "metadata": {},
   "outputs": [],
   "source": [
    "f.close()\n",
    "\n",
    "# after running cell 13 [close()] after cell 12 [write()], you can now see the new text written in the file\n",
    "\n",
    "# results:\n",
    "# Line 1Line2\n",
    "\n",
    "# it didn't print a newline character between the lines\n",
    "# we have to add that ourselves when we're writing files"
   ]
  },
  {
   "cell_type": "code",
   "execution_count": 14,
   "id": "5494eb04",
   "metadata": {},
   "outputs": [
    {
     "data": {
      "text/plain": [
       "7"
      ]
     },
     "execution_count": 14,
     "metadata": {},
     "output_type": "execute_result"
    }
   ],
   "source": [
    "f.write('Line 1\\n')\n",
    "f.write('Line 2\\n')\n",
    "\n",
    "# results:\n",
    "# Line 1\n",
    "# Line 2\n",
    "\n",
    "# when you open() a file [with 'w' mode], it's actually more like a create mode\n",
    "# - python will overwrite any existing data in that file"
   ]
  },
  {
   "cell_type": "code",
   "execution_count": 15,
   "id": "b222ea93",
   "metadata": {},
   "outputs": [],
   "source": [
    "f.close()"
   ]
  },
  {
   "cell_type": "markdown",
   "id": "8a54d22e",
   "metadata": {},
   "source": [
    "### Appending Files"
   ]
  },
  {
   "cell_type": "code",
   "execution_count": 16,
   "id": "42b670c3",
   "metadata": {},
   "outputs": [],
   "source": [
    "# to fix overwrite, open() the file in ['a' mode]\n",
    "f = open('10_01_output.txt', 'a')\n",
    "f.write('Line 3\\n')\n",
    "f.write('Line 4\\n')\n",
    "f.close()\n",
    "\n",
    "# results:\n",
    "# Line 1\n",
    "# Line 2\n",
    "# Line 3\n",
    "# Line 4"
   ]
  },
  {
   "cell_type": "code",
   "execution_count": null,
   "id": "f502e54f-675c-4a62-a8a8-935caf9ce234",
   "metadata": {},
   "outputs": [],
   "source": [
    "# close() function - it's VERY IMPORTANT that this gets called\n",
    "# - it basically releases the file, telling the operating system we're all done writing to it\n",
    "\n",
    "# these files will eventually get closed\n",
    "# there's a process in python that cleans up old variables that aren't being used anymore and will close them\n",
    "# unfortunately, that behavior is unpredictable, and you might get some kind of strange behavior if you're not managing the closing of these files yourself\n",
    "# it's BEST PRACTICE to close them when you're done with them"
   ]
  },
  {
   "cell_type": "code",
   "execution_count": 17,
   "id": "623506cf",
   "metadata": {},
   "outputs": [
    {
     "name": "stdout",
     "output_type": "stream",
     "text": [
      "<_io.TextIOWrapper name='10_01_output.txt' mode='a' encoding='cp1252'>\n"
     ]
    }
   ],
   "source": [
    "# with statement - most common way to close file\n",
    "with open('10_01_output.txt', 'a') as f:\n",
    "    f.write('some stuff\\n')\n",
    "    f.write('some other stuff\\n')\n",
    "# as soon as we outdent and leave this code block, this file gets closed\n",
    "\n",
    "# but notice that we still have access to the variable f\n",
    "print(f)\n",
    "\n",
    "# so if you run this cell, it will write, and f still exists\n",
    "# it's not like the if statements or functions where you only have access to f inside of that block"
   ]
  },
  {
   "cell_type": "code",
   "execution_count": 16,
   "id": "a8663ad4",
   "metadata": {},
   "outputs": [
    {
     "ename": "ValueError",
     "evalue": "I/O operation on closed file.",
     "output_type": "error",
     "traceback": [
      "\u001b[0;31m---------------------------------------------------------------------------\u001b[0m",
      "\u001b[0;31mValueError\u001b[0m                                Traceback (most recent call last)",
      "Input \u001b[0;32mIn [16]\u001b[0m, in \u001b[0;36m<module>\u001b[0;34m\u001b[0m\n\u001b[0;32m----> 1\u001b[0m \u001b[43mf\u001b[49m\u001b[38;5;241;43m.\u001b[39;49m\u001b[43mwrite\u001b[49m\u001b[43m(\u001b[49m\u001b[38;5;124;43m'\u001b[39;49m\u001b[38;5;124;43mPS. I forgot some stuff\u001b[39;49m\u001b[38;5;124;43m'\u001b[39;49m\u001b[43m)\u001b[49m\n",
      "\u001b[0;31mValueError\u001b[0m: I/O operation on closed file."
     ]
    }
   ],
   "source": [
    "f.write('PS. I forgot some stuff')\n",
    "# we get an I/O error because this file is already closed for writing"
   ]
  },
  {
   "cell_type": "code",
   "execution_count": null,
   "id": "06f58194",
   "metadata": {},
   "outputs": [],
   "source": []
  }
 ],
 "metadata": {
  "kernelspec": {
   "display_name": "Python 3 (ipykernel)",
   "language": "python",
   "name": "python3"
  },
  "language_info": {
   "codemirror_mode": {
    "name": "ipython",
    "version": 3
   },
   "file_extension": ".py",
   "mimetype": "text/x-python",
   "name": "python",
   "nbconvert_exporter": "python",
   "pygments_lexer": "ipython3",
   "version": "3.12.3"
  }
 },
 "nbformat": 4,
 "nbformat_minor": 5
}
