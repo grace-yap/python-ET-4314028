{
 "cells": [
  {
   "cell_type": "markdown",
   "id": "a34c27ca",
   "metadata": {},
   "source": [
    "## Class"
   ]
  },
  {
   "cell_type": "markdown",
   "id": "9254338c",
   "metadata": {},
   "source": [
    "### Instance Attributes"
   ]
  },
  {
   "cell_type": "code",
   "execution_count": 1,
   "id": "fd097c8c",
   "metadata": {},
   "outputs": [
    {
     "name": "stdout",
     "output_type": "stream",
     "text": [
      "Rover\n",
      "4\n"
     ]
    }
   ],
   "source": [
    "class Dog:\n",
    "    def __init__(self, name):\n",
    "        # instance attributes - attributes that each instance of the Dog class has\n",
    "        # instance attributes of Dog class: name, legs\n",
    "        self.name = name\n",
    "        self.legs = 4\n",
    "    \n",
    "    def speak(self):\n",
    "        print(self.name + ' says: Bark!')\n",
    "\n",
    "myDog = Dog('Rover')\n",
    "print(myDog.name)\n",
    "print(myDog.legs)"
   ]
  },
  {
   "cell_type": "code",
   "execution_count": 2,
   "id": "3abfa4a3",
   "metadata": {},
   "outputs": [
    {
     "ename": "AttributeError",
     "evalue": "type object 'Dog' has no attribute 'legs'",
     "output_type": "error",
     "traceback": [
      "\u001b[0;31m---------------------------------------------------------------------------\u001b[0m",
      "\u001b[0;31mAttributeError\u001b[0m                            Traceback (most recent call last)",
      "Input \u001b[0;32mIn [2]\u001b[0m, in \u001b[0;36m<module>\u001b[0;34m\u001b[0m\n\u001b[0;32m----> 1\u001b[0m \u001b[43mDog\u001b[49m\u001b[38;5;241;43m.\u001b[39;49m\u001b[43mlegs\u001b[49m\n",
      "\u001b[0;31mAttributeError\u001b[0m: type object 'Dog' has no attribute 'legs'"
     ]
    }
   ],
   "source": [
    "# even though self.legs is hardcoded in the Dog initialization function, we can't see what the value is directly\n",
    "# hence, we get an error:\n",
    "Dog.legs"
   ]
  },
  {
   "cell_type": "markdown",
   "id": "910762e2",
   "metadata": {},
   "source": [
    "### Static Attributes"
   ]
  },
  {
   "cell_type": "code",
   "execution_count": 3,
   "id": "d99d3ce6",
   "metadata": {},
   "outputs": [
    {
     "name": "stdout",
     "output_type": "stream",
     "text": [
      "Rover\n",
      "4\n"
     ]
    }
   ],
   "source": [
    "class Dog:\n",
    "    # make legs an attribute of the Dog class itself\n",
    "    # to do this, move legs outside of the initialization function of the constructor (remove self.legs and put legs outside)\n",
    "    legs = 4\n",
    "    def __init__(self, name):\n",
    "        self.name = name\n",
    "    \n",
    "    def speak(self):\n",
    "        print(self.name + ' says: Bark!')\n",
    "\n",
    "myDog = Dog('Rover')\n",
    "print(myDog.name)\n",
    "# each instance still has legs value\n",
    "print(myDog.legs)\n",
    "\n",
    "# static attributes or static variables - they're unchanging with each instance\n",
    "# - they're not dynamic, they're static\n",
    "# traditionally, static variables are used to hold contants and fundamental business logic"
   ]
  },
  {
   "cell_type": "code",
   "execution_count": 4,
   "id": "10d39f55",
   "metadata": {},
   "outputs": [
    {
     "data": {
      "text/plain": [
       "4"
      ]
     },
     "execution_count": 4,
     "metadata": {},
     "output_type": "execute_result"
    }
   ],
   "source": [
    "# but now, we can also see legs in the Dog class iself\n",
    "Dog.legs"
   ]
  },
  {
   "cell_type": "code",
   "execution_count": 5,
   "id": "6c0e3e22",
   "metadata": {},
   "outputs": [],
   "source": [
    "# just like any variable, static variables can be reset on the class\n",
    "Dog.legs = 3"
   ]
  },
  {
   "cell_type": "code",
   "execution_count": 6,
   "id": "c6358449",
   "metadata": {},
   "outputs": [
    {
     "name": "stdout",
     "output_type": "stream",
     "text": [
      "Rover\n",
      "3\n"
     ]
    }
   ],
   "source": [
    "# now if you make a new Dog instance, leg now has a value of 3\n",
    "myDog = Dog('Rover')\n",
    "print(myDog.name)\n",
    "print(myDog.legs)"
   ]
  },
  {
   "cell_type": "code",
   "execution_count": 5,
   "id": "f242ba14",
   "metadata": {},
   "outputs": [
    {
     "name": "stdout",
     "output_type": "stream",
     "text": [
      "Rover\n",
      "4\n"
     ]
    }
   ],
   "source": [
    "# - the convention to prevent reseting the value of a static variable is to add an UNDERSCORE BEFORE the variable name\n",
    "# - this doesn't necessarily stop anyone from messing with the variable, but the underscore is just an indicator or a warning:\n",
    "#        \"mess with this at your own risk because you could break things by changing the value\"\n",
    "\n",
    "# - the underscore also has another connotation -- that the user shouldn't rely on or even reference the values directly\n",
    "# - these private variables are implementation details, subject to change without notice, don't look at them ==> use a getter function or method instead\n",
    "\n",
    "class Dog:\n",
    "    _legs = 4\n",
    "    def __init__(self, name):\n",
    "        self.name = name\n",
    "\n",
    "    # the getter function or get method or getter method\n",
    "    # getter methods ALWAYS start with \"get\" (syntax: get<name>)\n",
    "    def getLegs(self):\n",
    "        return self._legs\n",
    "    \n",
    "    def speak(self):\n",
    "        print(self.name + ' says: Bark!')\n",
    "\n",
    "myDog = Dog('Rover')\n",
    "print(myDog.name)\n",
    "# use the getter method here, instead of using _legs\n",
    "print(myDog.getLegs())"
   ]
  },
  {
   "cell_type": "code",
   "execution_count": 3,
   "id": "5e8a035a-e616-4041-b8f8-541997fde80e",
   "metadata": {},
   "outputs": [
    {
     "name": "stdout",
     "output_type": "stream",
     "text": [
      "Rover\n"
     ]
    },
    {
     "ename": "TypeError",
     "evalue": "Dog.getLegs() takes 0 positional arguments but 1 was given",
     "output_type": "error",
     "traceback": [
      "\u001b[1;31m---------------------------------------------------------------------------\u001b[0m",
      "\u001b[1;31mTypeError\u001b[0m                                 Traceback (most recent call last)",
      "Cell \u001b[1;32mIn[3], line 27\u001b[0m\n\u001b[0;32m     25\u001b[0m \u001b[38;5;28mprint\u001b[39m(myDog\u001b[38;5;241m.\u001b[39mname)\n\u001b[0;32m     26\u001b[0m \u001b[38;5;66;03m# the problem is we can't call the method like we're used to (i.e., print(myDog.getLegs())) because it will throw an error:\u001b[39;00m\n\u001b[1;32m---> 27\u001b[0m \u001b[38;5;28mprint\u001b[39m(\u001b[43mmyDog\u001b[49m\u001b[38;5;241;43m.\u001b[39;49m\u001b[43mgetLegs\u001b[49m\u001b[43m(\u001b[49m\u001b[43m)\u001b[49m)\n",
      "\u001b[1;31mTypeError\u001b[0m: Dog.getLegs() takes 0 positional arguments but 1 was given"
     ]
    }
   ],
   "source": [
    "# - the convention to prevent reseting the value of a static variable is to add an UNDERSCORE BEFORE the variable name\n",
    "# - this doesn't necessarily stop anyone from messing with the variable, but the underscore is just an indicator or a warning:\n",
    "#        \"mess with this at your own risk because you could break things by changing the value\"\n",
    "\n",
    "# - the underscore also has another connotation -- that the user shouldn't rely on or even reference the values directly\n",
    "# - these private variables are implementation details, subject to change without notice, don't look at them ==> use a getter function or method instead\n",
    "\n",
    "class Dog:\n",
    "    _legs = 4\n",
    "    def __init__(self, name):\n",
    "        self.name = name\n",
    "\n",
    "    # strictly speaking, we don't need to pass the self attribute into the getter function\n",
    "    # self - is an object instance that's literally the same instance we're calling the function on\n",
    "    #      - so self is myDog -- same value\n",
    "    # but _legs is a static variable in this class\n",
    "    # so we could rewrite self._legs to Dog._legs, and now we don't need self in getLegs()\n",
    "    def getLegs():\n",
    "        return Dog._legs\n",
    "    \n",
    "    def speak(self):\n",
    "        print(self.name + ' says: Bark!')\n",
    "\n",
    "myDog = Dog('Rover')\n",
    "print(myDog.name)\n",
    "# the problem is we can't call the method like we're used to (i.e., print(myDog.getLegs())) because it will throw an error:\n",
    "print(myDog.getLegs())\n",
    "# it's complaining because when we call a method on a class instance, like myDog.getLegs(),\n",
    "# the class instance, myDog gets passed in as the first value automatically to getLegs().\n",
    "# it's saying zero positional arguments but one was given, and that's because we're passing this invisible value (self) in there (getLegs())"
   ]
  },
  {
   "cell_type": "code",
   "execution_count": 4,
   "id": "40ae2283-5027-4e7e-8592-443004624c58",
   "metadata": {},
   "outputs": [
    {
     "name": "stdout",
     "output_type": "stream",
     "text": [
      "Rover\n",
      "4\n"
     ]
    }
   ],
   "source": [
    "myDog = Dog('Rover')\n",
    "print(myDog.name)\n",
    "# so instead, we'll call the function like this:\n",
    "print(Dog.getLegs())\n",
    "# but this is not intuitive and looks a little odd\n",
    "\n",
    "# so the best way to do this (or in the instructor's opinion lol) is the traditional way (cell 11):\n",
    "#    def getLegs(self):\n",
    "#        return self._legs\n",
    "# and then call it using print(myDog.getLegs()) [again, cell 11]"
   ]
  },
  {
   "cell_type": "code",
   "execution_count": 12,
   "id": "b914c567",
   "metadata": {},
   "outputs": [
    {
     "name": "stdout",
     "output_type": "stream",
     "text": [
      "Rover\n",
      "3\n",
      "4\n"
     ]
    }
   ],
   "source": [
    "# classes have their own variable scope rules that are very similar to the variable scope rules of functions\n",
    "\n",
    "# so if self._legs is not set to something else, it references the class variables _legs (_legs = 4)\n",
    "myDog = Dog('Rover')\n",
    "# we're changing the instance variable _legs (myDog.getLegs()), but not the class variable (Dog._legs)\n",
    "myDog._legs = 3\n",
    "print(myDog.name)\n",
    "print(myDog.getLegs())\n",
    "print(Dog._legs)"
   ]
  },
  {
   "cell_type": "code",
   "execution_count": null,
   "id": "e7eb5e63",
   "metadata": {},
   "outputs": [],
   "source": []
  }
 ],
 "metadata": {
  "kernelspec": {
   "display_name": "Python 3 (ipykernel)",
   "language": "python",
   "name": "python3"
  },
  "language_info": {
   "codemirror_mode": {
    "name": "ipython",
    "version": 3
   },
   "file_extension": ".py",
   "mimetype": "text/x-python",
   "name": "python",
   "nbconvert_exporter": "python",
   "pygments_lexer": "ipython3",
   "version": "3.12.3"
  }
 },
 "nbformat": 4,
 "nbformat_minor": 5
}
